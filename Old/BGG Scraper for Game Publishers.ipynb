{
 "cells": [
  {
   "cell_type": "markdown",
   "metadata": {},
   "source": [
    "# Import libraries"
   ]
  },
  {
   "cell_type": "code",
   "execution_count": 1,
   "metadata": {},
   "outputs": [],
   "source": [
    "from bs4 import BeautifulSoup\n",
    "import time\n",
    "from datetime import datetime \n",
    "import json\n",
    "import requests\n",
    "import pandas as pd"
   ]
  },
  {
   "cell_type": "code",
   "execution_count": 2,
   "metadata": {},
   "outputs": [],
   "source": [
    "def log_progress(sequence, name, every=None, size=None):\n",
    "    from ipywidgets import IntProgress, HTML, VBox\n",
    "    from IPython.display import display\n",
    "\n",
    "    is_iterator = False\n",
    "    if size is None:\n",
    "        try:\n",
    "            size = len(sequence)\n",
    "        except TypeError:\n",
    "            is_iterator = True\n",
    "    if size is not None:\n",
    "        if every is None:\n",
    "            if size <= 200:\n",
    "                every = 1\n",
    "            else:\n",
    "                every = int(size / 200)     # every 0.5%\n",
    "    else:\n",
    "        assert every is not None, 'sequence is iterator, set every'\n",
    "\n",
    "    if is_iterator:\n",
    "        progress = IntProgress(min=0, max=1, value=1)\n",
    "        progress.bar_style = 'info'\n",
    "    else:\n",
    "        progress = IntProgress(min=0, max=size, value=0)\n",
    "    label = HTML()\n",
    "    box = VBox(children=[label, progress])\n",
    "    display(box)\n",
    "\n",
    "    index = 0\n",
    "    try:\n",
    "        for index, record in enumerate(sequence, 1):\n",
    "            if index == 1 or index % every == 0:\n",
    "                if is_iterator:\n",
    "                    label.value = '{name}: {index} / ?'.format(\n",
    "                        name=name,\n",
    "                        index=index\n",
    "                    )\n",
    "                else:\n",
    "                    progress.value = index\n",
    "                    label.value = u'{name}: {index} / {size}'.format(\n",
    "                        name=name,\n",
    "                        index=index,\n",
    "                        size=size\n",
    "                    )\n",
    "            yield record\n",
    "    except:\n",
    "        progress.bar_style = 'danger'\n",
    "        raise\n",
    "    else:\n",
    "        progress.bar_style = 'success'\n",
    "        progress.value = index\n",
    "        label.value = \"{name}: {index}\".format(\n",
    "            name=name,\n",
    "            index=str(index or '?')\n",
    "        )"
   ]
  },
  {
   "cell_type": "code",
   "execution_count": 3,
   "metadata": {},
   "outputs": [],
   "source": [
    "# do validation and checks before insert\n",
    "def validate_string(val):\n",
    "   if val != None:\n",
    "        if type(val) is int:\n",
    "            #for x in val:\n",
    "            #   print(x)\n",
    "            return str(val)\n",
    "        else:\n",
    "            return val"
   ]
  },
  {
   "cell_type": "code",
   "execution_count": 4,
   "metadata": {},
   "outputs": [],
   "source": [
    "def remove_html_tags(text):\n",
    "    \"\"\"Remove html tags from a string\"\"\"\n",
    "    import re\n",
    "    if type(text) != int:\n",
    "        text = text.replace('\"','')\n",
    "        clean = re.compile('<.*?>')\n",
    "        return re.sub(clean, '', text)\n",
    "    else:\n",
    "        return text"
   ]
  },
  {
   "cell_type": "markdown",
   "metadata": {},
   "source": [
    "## Prepare scrapper\n",
    "\n",
    "First, lets get all Publishers and their numbers for later use."
   ]
  },
  {
   "cell_type": "code",
   "execution_count": 5,
   "metadata": {},
   "outputs": [],
   "source": [
    "url = \"https://boardgamegeek.com/browse/boardgamepublisher/page/1050\""
   ]
  },
  {
   "cell_type": "code",
   "execution_count": null,
   "metadata": {},
   "outputs": [
    {
     "data": {
      "application/vnd.jupyter.widget-view+json": {
       "model_id": "4baab82eae9f49bbb9ff488726b9cb74",
       "version_major": 2,
       "version_minor": 0
      },
      "text/plain": [
       "VBox(children=(HTML(value=''), IntProgress(value=0, max=1999)))"
      ]
     },
     "metadata": {},
     "output_type": "display_data"
    }
   ],
   "source": [
    "%timeit\n",
    "publishers = {}\n",
    "for i in log_progress(range(1,2000),'Page'):\n",
    "    url = \"https://boardgamegeek.com/browse/boardgamepublisher/page/%d\" %(i)\n",
    "    list_page = BeautifulSoup(\n",
    "    requests.get(url).text,\n",
    "    \"html.parser\")\n",
    "    for link in list_page.find_all('a'):\n",
    "        publisher = str(link.get('href'))\n",
    "        if link.get('href')[1:20] == 'boardgamepublisher/':\n",
    "            publisher = publisher[20:]\n",
    "            publisher = publisher.split('/')\n",
    "            publishers[publisher[1]] = publisher[0]"
   ]
  },
  {
   "cell_type": "code",
   "execution_count": 36,
   "metadata": {},
   "outputs": [
    {
     "name": "stdout",
     "output_type": "stream",
     "text": [
      "19248\n"
     ]
    }
   ],
   "source": [
    "print(len(publishers))"
   ]
  },
  {
   "cell_type": "markdown",
   "metadata": {},
   "source": [
    "## Get information about each Publisher"
   ]
  },
  {
   "cell_type": "code",
   "execution_count": null,
   "metadata": {},
   "outputs": [],
   "source": [
    "publisher_games = {}\n",
    "for publisher, publisher_id in log_progress(publishers, 'Publisher'):\n",
    "    url = \"\"\"https://boardgamegeek.com/geekitem.php?instanceid=8&objecttype=company&\n",
    "    objectid=%d\n",
    "    &subtype=boardgamepublisher&pageid=1&sort=name&view=boardgames&modulename=linkeditems&\n",
    "    callback=&showcount=10000&filters[categoryfilter]=&filters[mechanicfilter]=&action=linkeditems&ajax=1\"\"\" % (publisher_id)\n",
    "    \n",
    "    list_page = BeautifulSoup(\n",
    "        requests.get(url).text,\n",
    "        \"html.parser\")\n",
    "    # Loop through the list of games, finding each of the URLs in the table\n",
    "    \n",
    "    all_games = []\n",
    "    number_of_items = len(list_page.find_all(\"span\", {\"class\": \"go_thumbnail\"}))\n",
    "    i = 0\n",
    "\n",
    "    all_pages = list_page.find_all(\"span\", {\"class\": \"go_thumbnail\"})\n",
    "    for game in log_progress(all_pages, 'Games'):\n",
    "\n",
    "        game_url = \"https://boardgamegeek.com\" + game.find(\"a\").get(\"href\")\n",
    "         # Download the game page and load it into memory\n",
    "        game_page = BeautifulSoup(\n",
    "             requests.get(game_url).text,\n",
    "             \"html.parser\"\n",
    "         )\n",
    "\n",
    "        script = game_page.find('script').get_text()\n",
    "        json_text = script[script.find('GEEK.geekitemPreload')+23:script.find('GEEK.geekitemSettings')-3]\n",
    "        json_raw_data = json.loads(json_text)\n",
    "        all_games.append(json_raw_data)\n",
    "        time.sleep(0.5)\n",
    "    publisher_games[publisher] = all_games\n",
    "    #     i += 1\n",
    "    #     if i == 4:\n",
    "    #         break"
   ]
  },
  {
   "cell_type": "code",
   "execution_count": null,
   "metadata": {},
   "outputs": [],
   "source": []
  },
  {
   "cell_type": "code",
   "execution_count": null,
   "metadata": {},
   "outputs": [],
   "source": []
  },
  {
   "cell_type": "code",
   "execution_count": null,
   "metadata": {},
   "outputs": [],
   "source": []
  },
  {
   "cell_type": "markdown",
   "metadata": {},
   "source": [
    "## Importing JSON to MySql"
   ]
  },
  {
   "cell_type": "code",
   "execution_count": 26,
   "metadata": {},
   "outputs": [],
   "source": [
    "import pymysql, os\n",
    "from datetime import date\n",
    "import calendar"
   ]
  },
  {
   "cell_type": "code",
   "execution_count": 27,
   "metadata": {},
   "outputs": [],
   "source": [
    "# connect to MySQL\n",
    "connection = pymysql.connect(host='localhost',\n",
    "                             user='root',\n",
    "                             password='Esqueci1',\n",
    "                             db='bgg_information',\n",
    "                             charset='utf8mb4',\n",
    "                             cursorclass=pymysql.cursors.DictCursor)\n",
    "cursor = connection.cursor()"
   ]
  },
  {
   "cell_type": "markdown",
   "metadata": {},
   "source": [
    "## Insert Items"
   ]
  },
  {
   "cell_type": "markdown",
   "metadata": {},
   "source": [
    "#### Get last ID on Stats table"
   ]
  },
  {
   "cell_type": "code",
   "execution_count": 28,
   "metadata": {},
   "outputs": [],
   "source": [
    "sql = 'Select MAX(bgg_stats) from game_stats GROUP BY bgg_stats;'\n",
    "last_record = cursor.execute(sql)"
   ]
  },
  {
   "cell_type": "markdown",
   "metadata": {},
   "source": [
    "#### Fields on the table"
   ]
  },
  {
   "cell_type": "code",
   "execution_count": 29,
   "metadata": {},
   "outputs": [],
   "source": [
    "what_to_insert = ['subtypename','itemid','objecttype', 'objectid', 'label', 'name', 'yearpublished', 'minplayers',\n",
    " 'maxplayers', 'minplaytime', 'maxplaytime', 'minage', 'description','date_downloaded', 'bgg_stats']"
   ]
  },
  {
   "cell_type": "markdown",
   "metadata": {},
   "source": [
    "#### Get current time"
   ]
  },
  {
   "cell_type": "code",
   "execution_count": 30,
   "metadata": {},
   "outputs": [],
   "source": [
    "date_downloaded = calendar.timegm(time.gmtime())"
   ]
  },
  {
   "cell_type": "markdown",
   "metadata": {},
   "source": [
    "#### Transformation from JSON to Database"
   ]
  },
  {
   "cell_type": "markdown",
   "metadata": {},
   "source": [
    "First, we create the table for games general information.\n",
    "Since the other tables have auto increment Primary keys, we can get the max value, add one and start sdding here before creating records."
   ]
  },
  {
   "cell_type": "code",
   "execution_count": 31,
   "metadata": {},
   "outputs": [],
   "source": [
    "sql = 'INSERT INTO bgg_information ('\n",
    "for item in what_to_insert:\n",
    "    sql += '%s, ' % (item)\n",
    "sql = sql[:-2] + ') VALUES ('\n",
    "for i in range(0, len(all_games)):\n",
    "    game = all_games[i]\n",
    "    game_item = game['item']\n",
    "    # parse json data to SQL insert\n",
    "    for item in what_to_insert:\n",
    "        if item == 'date_downloaded':\n",
    "            sql += '\"%s\", ' % (date_downloaded)\n",
    "        elif item == 'bgg_stats':\n",
    "            last_record += 1\n",
    "            sql += '\"%s\", ' % (last_record)\n",
    "        else:\n",
    "            sql += '\"%s\", ' % (remove_html_tags(game_item[item]))\n",
    "            \n",
    "    sql = sql[:-2] + '), ('\n",
    "sql = sql[:-3] + ';'"
   ]
  },
  {
   "cell_type": "code",
   "execution_count": 32,
   "metadata": {},
   "outputs": [],
   "source": [
    "cursor.execute(sql)\n",
    "connection.commit()"
   ]
  },
  {
   "cell_type": "markdown",
   "metadata": {},
   "source": [
    "## Insert Stats"
   ]
  },
  {
   "cell_type": "code",
   "execution_count": 33,
   "metadata": {},
   "outputs": [],
   "source": [
    "what_to_insert = ['usersrated', 'average', 'baverage', 'stddev', 'avgweight', 'numweights', 'numgeeklists',\n",
    " 'numtrading', 'numwanting', 'numwish', 'numowned', 'numprevowned', 'numcomments', 'numwishlistcomments',\n",
    " 'numhasparts', 'numwantparts', 'views', 'playmonth', 'numplays','numplays_month', 'numfans']"
   ]
  },
  {
   "cell_type": "code",
   "execution_count": 34,
   "metadata": {},
   "outputs": [],
   "source": [
    "date_downloaded = date.today().strftime('%Y-%m-%d')\n",
    "\n",
    "sql = 'INSERT INTO game_stats ('\n",
    "for item in what_to_insert:\n",
    "    sql += '%s, ' % (item)\n",
    "sql = sql[:-2] + ') VALUES ('\n",
    "for i in range(0, len(all_games)):\n",
    "    game_stats = all_games[i]['item']['stats']\n",
    "    # parse json data to SQL insert\n",
    "    for item in what_to_insert:\n",
    "        sql += '\"%s\", ' % (remove_html_tags(game_stats[item]))\n",
    "    sql = sql[:-2] + '), ('\n",
    "    \n",
    "    all_games[i]['item']\n",
    "sql = sql[:-3] + ';'"
   ]
  },
  {
   "cell_type": "code",
   "execution_count": 35,
   "metadata": {},
   "outputs": [],
   "source": [
    "cursor.execute(sql)\n",
    "connection.commit()"
   ]
  },
  {
   "cell_type": "code",
   "execution_count": 36,
   "metadata": {},
   "outputs": [],
   "source": [
    "connection.close()"
   ]
  }
 ],
 "metadata": {
  "kernelspec": {
   "display_name": "Python 3",
   "language": "python",
   "name": "python3"
  },
  "language_info": {
   "codemirror_mode": {
    "name": "ipython",
    "version": 3
   },
   "file_extension": ".py",
   "mimetype": "text/x-python",
   "name": "python",
   "nbconvert_exporter": "python",
   "pygments_lexer": "ipython3",
   "version": "3.7.1"
  }
 },
 "nbformat": 4,
 "nbformat_minor": 2
}
