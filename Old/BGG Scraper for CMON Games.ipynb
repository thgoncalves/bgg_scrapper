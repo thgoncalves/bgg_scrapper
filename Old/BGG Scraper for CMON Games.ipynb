{
 "cells": [
  {
   "cell_type": "code",
   "execution_count": 1,
   "metadata": {},
   "outputs": [],
   "source": [
    "from bs4 import BeautifulSoup\n",
    "import time\n",
    "from datetime import datetime \n",
    "import json\n",
    "import requests\n",
    "import pandas as pd"
   ]
  },
  {
   "cell_type": "code",
   "execution_count": 2,
   "metadata": {},
   "outputs": [],
   "source": [
    "def log_progress(sequence, name, every=None, size=None):\n",
    "    from ipywidgets import IntProgress, HTML, VBox\n",
    "    from IPython.display import display\n",
    "\n",
    "    is_iterator = False\n",
    "    if size is None:\n",
    "        try:\n",
    "            size = len(sequence)\n",
    "        except TypeError:\n",
    "            is_iterator = True\n",
    "    if size is not None:\n",
    "        if every is None:\n",
    "            if size <= 200:\n",
    "                every = 1\n",
    "            else:\n",
    "                every = int(size / 200)     # every 0.5%\n",
    "    else:\n",
    "        assert every is not None, 'sequence is iterator, set every'\n",
    "\n",
    "    if is_iterator:\n",
    "        progress = IntProgress(min=0, max=1, value=1)\n",
    "        progress.bar_style = 'info'\n",
    "    else:\n",
    "        progress = IntProgress(min=0, max=size, value=0)\n",
    "    label = HTML()\n",
    "    box = VBox(children=[label, progress])\n",
    "    display(box)\n",
    "\n",
    "    index = 0\n",
    "    try:\n",
    "        for index, record in enumerate(sequence, 1):\n",
    "            if index == 1 or index % every == 0:\n",
    "                if is_iterator:\n",
    "                    label.value = '{name}: {index} / ?'.format(\n",
    "                        name=name,\n",
    "                        index=index\n",
    "                    )\n",
    "                else:\n",
    "                    progress.value = index\n",
    "                    label.value = u'{name}: {index} / {size}'.format(\n",
    "                        name=name,\n",
    "                        index=index,\n",
    "                        size=size\n",
    "                    )\n",
    "            yield record\n",
    "    except:\n",
    "        progress.bar_style = 'danger'\n",
    "        raise\n",
    "    else:\n",
    "        progress.bar_style = 'success'\n",
    "        progress.value = index\n",
    "        label.value = \"{name}: {index}\".format(\n",
    "            name=name,\n",
    "            index=str(index or '?')\n",
    "        )"
   ]
  },
  {
   "cell_type": "code",
   "execution_count": 3,
   "metadata": {},
   "outputs": [],
   "source": [
    "# do validation and checks before insert\n",
    "def validate_string(val):\n",
    "   if val != None:\n",
    "        if type(val) is int:\n",
    "            #for x in val:\n",
    "            #   print(x)\n",
    "            return str(val)\n",
    "        else:\n",
    "            return val"
   ]
  },
  {
   "cell_type": "code",
   "execution_count": 4,
   "metadata": {},
   "outputs": [],
   "source": [
    "def remove_html_tags(text):\n",
    "    \"\"\"Remove html tags from a string\"\"\"\n",
    "    import re\n",
    "    if type(text) != int:\n",
    "        text = text.replace('\"','')\n",
    "        clean = re.compile('<.*?>')\n",
    "        return re.sub(clean, '', text)\n",
    "    else:\n",
    "        return text"
   ]
  },
  {
   "cell_type": "code",
   "execution_count": 5,
   "metadata": {},
   "outputs": [],
   "source": [
    "url = \"\"\"https://boardgamegeek.com/geekitem.php?instanceid=8&\n",
    "        objecttype=company&\n",
    "        objectid=21608&\n",
    "        subtype=boardgamepublisher&\n",
    "        pageid=1&\n",
    "        sort=name&\n",
    "        view=boardgames&\n",
    "        modulename=linkeditems&\n",
    "        callback=&\n",
    "        showcount=10000&\n",
    "        filters[categoryfilter]=&\n",
    "        filters[mechanicfilter]=&\n",
    "        action=linkeditems&\n",
    "        ajax=1\""
   ]
  },
  {
   "cell_type": "code",
   "execution_count": 6,
   "metadata": {},
   "outputs": [],
   "source": [
    "list_page = BeautifulSoup(\n",
    "    requests.get(url).text,\n",
    "    \"html.parser\")"
   ]
  },
  {
   "cell_type": "code",
   "execution_count": 7,
   "metadata": {
    "scrolled": true
   },
   "outputs": [
    {
     "data": {
      "application/vnd.jupyter.widget-view+json": {
       "model_id": "3e807444fc1f4e1bac32cd25cb0bb41a",
       "version_major": 2,
       "version_minor": 0
      },
      "text/plain": [
       "VBox(children=(HTML(value=''), IntProgress(value=0, max=481)))"
      ]
     },
     "metadata": {},
     "output_type": "display_data"
    }
   ],
   "source": [
    "# Loop through the list of games, finding each of the URLs in the table\n",
    "all_games = []\n",
    "number_of_items = len(list_page.find_all(\"span\", {\"class\": \"go_thumbnail\"}))\n",
    "i = 0\n",
    "\n",
    "all_pages = list_page.find_all(\"span\", {\"class\": \"go_thumbnail\"})\n",
    "for game in log_progress(all_pages, 'Games'):\n",
    "\n",
    "    game_url = \"https://boardgamegeek.com\" + game.find(\"a\").get(\"href\")\n",
    "     # Download the game page and load it into memory\n",
    "    game_page = BeautifulSoup(\n",
    "         requests.get(game_url).text,\n",
    "         \"html.parser\"\n",
    "     )\n",
    "    \n",
    "    script = game_page.find('script').get_text()\n",
    "    json_text = script[script.find('GEEK.geekitemPreload')+23:script.find('GEEK.geekitemSettings')-3]\n",
    "    json_raw_data = json.loads(json_text)\n",
    "    all_games.append(json_raw_data)\n",
    "    time.sleep(0.5)\n",
    "#     i += 1\n",
    "#     if i == 4:\n",
    "#         break"
   ]
  },
  {
   "cell_type": "markdown",
   "metadata": {},
   "source": [
    "## Importing JSON to MySql"
   ]
  },
  {
   "cell_type": "code",
   "execution_count": 8,
   "metadata": {},
   "outputs": [],
   "source": [
    "import pymysql, os\n",
    "from datetime import date\n",
    "import calendar"
   ]
  },
  {
   "cell_type": "code",
   "execution_count": 9,
   "metadata": {},
   "outputs": [],
   "source": [
    "# connect to MySQL\n",
    "connection = pymysql.connect(host='localhost',\n",
    "                             user='root',\n",
    "                             password='Esqueci1',\n",
    "                             db='bgg_information',\n",
    "                             charset='utf8mb4',\n",
    "                             cursorclass=pymysql.cursors.DictCursor)\n",
    "cursor = connection.cursor()"
   ]
  },
  {
   "cell_type": "markdown",
   "metadata": {},
   "source": [
    "## Insert Items"
   ]
  },
  {
   "cell_type": "markdown",
   "metadata": {},
   "source": [
    "#### Get last ID on Stats table"
   ]
  },
  {
   "cell_type": "code",
   "execution_count": 10,
   "metadata": {},
   "outputs": [],
   "source": [
    "sql = 'Select MAX(bgg_stats) from game_stats GROUP BY bgg_stats;'\n",
    "last_record = cursor.execute(sql)"
   ]
  },
  {
   "cell_type": "markdown",
   "metadata": {},
   "source": [
    "#### Fields on the table"
   ]
  },
  {
   "cell_type": "code",
   "execution_count": 11,
   "metadata": {},
   "outputs": [],
   "source": [
    "what_to_insert = ['subtypename','itemid','objecttype', 'objectid', 'label', 'name', 'yearpublished', 'minplayers',\n",
    " 'maxplayers', 'minplaytime', 'maxplaytime', 'minage', 'description','date_downloaded', 'bgg_stats']"
   ]
  },
  {
   "cell_type": "markdown",
   "metadata": {},
   "source": [
    "#### Get current time"
   ]
  },
  {
   "cell_type": "code",
   "execution_count": 12,
   "metadata": {},
   "outputs": [],
   "source": [
    "date_downloaded = calendar.timegm(time.gmtime())"
   ]
  },
  {
   "cell_type": "markdown",
   "metadata": {},
   "source": [
    "#### Transformation from JSON to Database"
   ]
  },
  {
   "cell_type": "markdown",
   "metadata": {},
   "source": [
    "First, we create the table for games general information.\n",
    "Since the other tables have auto increment Primary keys, we can get the max value, add one and start sdding here before creating records."
   ]
  },
  {
   "cell_type": "code",
   "execution_count": 13,
   "metadata": {},
   "outputs": [],
   "source": [
    "sql = 'INSERT INTO bgg_information ('\n",
    "for item in what_to_insert:\n",
    "    sql += '%s, ' % (item)\n",
    "sql = sql[:-2] + ') VALUES ('\n",
    "for i in range(0, len(all_games)):\n",
    "    game = all_games[i]\n",
    "    game_item = game['item']\n",
    "    # parse json data to SQL insert\n",
    "    for item in what_to_insert:\n",
    "        if item == 'date_downloaded':\n",
    "            sql += '\"%s\", ' % (date_downloaded)\n",
    "        elif item == 'bgg_stats':\n",
    "            last_record += 1\n",
    "            sql += '\"%s\", ' % (last_record)\n",
    "        else:\n",
    "            sql += '\"%s\", ' % (remove_html_tags(game_item[item]))\n",
    "            \n",
    "    sql = sql[:-2] + '), ('\n",
    "sql = sql[:-3] + ';'"
   ]
  },
  {
   "cell_type": "code",
   "execution_count": 14,
   "metadata": {},
   "outputs": [],
   "source": [
    "cursor.execute(sql)\n",
    "connection.commit()"
   ]
  },
  {
   "cell_type": "markdown",
   "metadata": {},
   "source": [
    "## Insert Stats"
   ]
  },
  {
   "cell_type": "code",
   "execution_count": 15,
   "metadata": {},
   "outputs": [],
   "source": [
    "what_to_insert = ['usersrated', 'average', 'baverage', 'stddev', 'avgweight', 'numweights', 'numgeeklists',\n",
    " 'numtrading', 'numwanting', 'numwish', 'numowned', 'numprevowned', 'numcomments', 'numwishlistcomments',\n",
    " 'numhasparts', 'numwantparts', 'views', 'playmonth', 'numplays','numplays_month', 'numfans']"
   ]
  },
  {
   "cell_type": "code",
   "execution_count": 16,
   "metadata": {},
   "outputs": [],
   "source": [
    "date_downloaded = date.today().strftime('%Y-%m-%d')\n",
    "\n",
    "sql = 'INSERT INTO game_stats ('\n",
    "for item in what_to_insert:\n",
    "    sql += '%s, ' % (item)\n",
    "sql = sql[:-2] + ') VALUES ('\n",
    "for i in range(0, len(all_games)):\n",
    "    game_stats = all_games[i]['item']['stats']\n",
    "    # parse json data to SQL insert\n",
    "    for item in what_to_insert:\n",
    "        sql += '\"%s\", ' % (remove_html_tags(game_stats[item]))\n",
    "    sql = sql[:-2] + '), ('\n",
    "    \n",
    "    all_games[i]['item']\n",
    "sql = sql[:-3] + ';'"
   ]
  },
  {
   "cell_type": "code",
   "execution_count": 17,
   "metadata": {},
   "outputs": [],
   "source": [
    "cursor.execute(sql)\n",
    "connection.commit()"
   ]
  },
  {
   "cell_type": "code",
   "execution_count": 18,
   "metadata": {},
   "outputs": [],
   "source": [
    "connection.close()"
   ]
  },
  {
   "cell_type": "code",
   "execution_count": null,
   "metadata": {},
   "outputs": [],
   "source": []
  }
 ],
 "metadata": {
  "kernelspec": {
   "display_name": "Python 3",
   "language": "python",
   "name": "python3"
  },
  "language_info": {
   "codemirror_mode": {
    "name": "ipython",
    "version": 3
   },
   "file_extension": ".py",
   "mimetype": "text/x-python",
   "name": "python",
   "nbconvert_exporter": "python",
   "pygments_lexer": "ipython3",
   "version": "3.7.2"
  }
 },
 "nbformat": 4,
 "nbformat_minor": 2
}
