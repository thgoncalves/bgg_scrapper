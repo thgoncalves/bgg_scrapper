{
 "cells": [
  {
   "cell_type": "markdown",
   "metadata": {},
   "source": [
    "# BGG Scraper\n",
    "\n",
    "This script is optimized to collect information from BGG web pages using their XMLAPI2 API.\n",
    "\n",
    "All games are displayed on a search page provided by the site. We use that as a starting point for the scraper. With games ID (witch are unique) we are able to collect even more information about them, specialy the Statistics data.\n",
    "\n",
    "The API alow us to query for more than 1 game, making the extraction incredibly more efficient, restricted only by the size of the URL itself. There for, we have to break the URLs into smaller groups. In this case, 500 games per request is enought to get the date without overloading the downloaded string."
   ]
  },
  {
   "cell_type": "code",
   "execution_count": 1,
   "metadata": {},
   "outputs": [],
   "source": [
    "\"\"\"Boardgame class\"\"\"\n",
    "\n",
    "class BoardGame(object):\n",
    "    \"\"\"Object containing information about a boardgame\"\"\"\n",
    "    \n",
    "    def __init__(self, data):\n",
    "        self._data = data\n",
    "    \n",
    "    def __len__(self):\n",
    "        return self._data_len\n",
    "    \n",
    "    def __repr__(self):\n",
    "        return(\"Boardgame(\" + self.name + \")\")\n",
    "    \n",
    "    def data(self):\n",
    "        \"\"\"Internal data dictionary\"\"\"\n",
    "        return self._data\n",
    "    \n",
    "    @property\n",
    "    def item(self):\n",
    "        \"\"\"Internal dictionary of 'item'\"\"\"\n",
    "        return self._data #['items']['item']\n",
    "        \n",
    "    @property\n",
    "    def statistics(self):\n",
    "        \"\"\"Internal dictionary of 'statistics'\"\"\"\n",
    "        return self.item['statistics']\n",
    "    \n",
    "    @property\n",
    "    def name(self):\n",
    "        \"\"\"object name\"\"\"\n",
    "        try:\n",
    "            return str(self.item['name']['@value'])\n",
    "        except:\n",
    "            return str(self.item['name'][0]['@value'])\n",
    "\n",
    "            \n",
    "    @property\n",
    "    def id(self):\n",
    "        \"\"\"BGG ID\"\"\"\n",
    "        return self.item['@id']\n",
    "        \n",
    "    @property\n",
    "    def description(self):\n",
    "        \"\"\"Game description\"\"\"\n",
    "        return self.item['description']\n",
    "        \n",
    "    @property\n",
    "    def year_published(self):\n",
    "        \"\"\"Year of publication\"\"\"\n",
    "        try:\n",
    "            temp = int(self.item['yearpublished']['@value'])\n",
    "        except:\n",
    "            temp = 0\n",
    "        \n",
    "        return temp\n",
    "        \n",
    "    @property\n",
    "    def min_players(self):\n",
    "        \"\"\"Minimum number of players, according to publisher\"\"\"\n",
    "        try:\n",
    "            temp = int(self.item['minplayers']['@value'])\n",
    "        except:\n",
    "            temp = 0\n",
    "        \n",
    "        return temp\n",
    "        \n",
    "    @property\n",
    "    def max_players(self):\n",
    "        \"\"\"Maximum number of players, according to publisher\"\"\"\n",
    "        try:\n",
    "            temp = int(self.item['maxplayers']['@value'])\n",
    "        except:\n",
    "            temp = 0\n",
    "        \n",
    "        return temp\n",
    "\n",
    "    @property\n",
    "    def suggested_players(self):\n",
    "        \"\"\"BGG users suggested best player count\"\"\"\n",
    "        poll = self.item['poll']\n",
    "        poll_names = [ii['@name'] for ii in poll]\n",
    "        poll = poll[poll_names.index('suggested_numplayers')]['results']\n",
    "        \n",
    "        best_player_cnt = {}\n",
    "        def _get_best_num_players(index):\n",
    "            numplay = poll[index]['@numplayers']\n",
    "            best_votes = poll[index]['result'][0]['@numvotes']\n",
    "            best_player_cnt[numplay] = int(best_votes)\n",
    "        \n",
    "        for x in range(len(poll)):\n",
    "            _get_best_num_players(x) \n",
    "        max_votes = max(list(best_player_cnt.values()))\n",
    "        \n",
    "        suggested_players = [count for count, votes in best_player_cnt.items() if votes == max_votes][0]\n",
    "                \n",
    "        return suggested_players\n",
    "    \n",
    "    @property\n",
    "    def min_age(self):\n",
    "        \"\"\"Publisher defined minimum age\"\"\"\n",
    "        try:\n",
    "            temp = int(self.item['minage']['@value'])\n",
    "        except:\n",
    "            temp = 0\n",
    "        \n",
    "        return temp\n",
    "    \n",
    "    @property\n",
    "    def suggested_player_age(self):\n",
    "        \"\"\"BGG users suggested minimum age\"\"\"\n",
    "        poll = self.item['poll']\n",
    "        poll_names = [ii['@name'] for ii in poll]\n",
    "        poll = poll[poll_names.index('suggested_playerage')]['results']['result']\n",
    "        \n",
    "        best_player_age = {}\n",
    "        def _get_best_age_players(index):\n",
    "            age = poll[index]['@value']\n",
    "            num_votes = poll[index]['@numvotes']\n",
    "            best_player_age[age] = int(num_votes)\n",
    "        \n",
    "        for x in range(len(poll)):\n",
    "            _get_best_age_players(x)\n",
    "        \n",
    "        max_votes = max(list(best_player_age.values()))\n",
    "        \n",
    "        suggested_age = [count for count, votes in best_player_age.items() if votes == max_votes][0]\n",
    "        \n",
    "        return int(suggested_age)\n",
    "    \n",
    "    @property\n",
    "    def language_dependence(self):\n",
    "        \"\"\"BGG users suggested language dependence\"\"\"\n",
    "        poll = self.item['poll']\n",
    "        poll_names = [ii['@name'] for ii in poll]\n",
    "        poll = poll[poll_names.index('language_dependence')]['results']['result']\n",
    "        \n",
    "        voted_language_dependence = {}\n",
    "        def _get_language_requirements(index):\n",
    "            language_level = poll[index]['@value']\n",
    "            num_votes = poll[index]['@numvotes']\n",
    "            voted_language_dependence[language_level] = int(num_votes)\n",
    "        \n",
    "        for x in range(len(poll)):\n",
    "            _get_language_requirements(x)\n",
    "            \n",
    "        max_votes = max(list(voted_language_dependence.values()))\n",
    "        language_requirement = [count for count, votes in voted_language_dependence.items() if votes == max_votes][0]\n",
    "        \n",
    "        return language_requirement\n",
    "        \n",
    "    @property\n",
    "    def playing_time(self):\n",
    "        \"\"\"BGG suggested playing time\"\"\"\n",
    "        return int(self.item['playingtime']['@value'])\n",
    "        \n",
    "    @property\n",
    "    def min_play_time(self):\n",
    "        \"\"\"Publisher defined minimum play time\"\"\"\n",
    "        return int(self.item['minplaytime']['@value'])\n",
    "        \n",
    "    @property\n",
    "    def max_play_time(self):\n",
    "        \"\"\"Publisher defined maximum play time\"\"\"\n",
    "        return int(self.item['maxplaytime']['@value'])\n",
    "        \n",
    "    @property\n",
    "    def categories(self):\n",
    "        \"\"\"List of game categories (i.e. theme)\"\"\"\n",
    "        link = self.item['link']\n",
    "        link_names = [ii['@type'] for ii in link]\n",
    "        names_index = [i for i, x in enumerate(link_names) if x == 'boardgamecategory']\n",
    "        categories = [link[ii]['@value'] for ii in names_index]\n",
    "        \n",
    "        return categories\n",
    "        \n",
    "    @property\n",
    "    def mechanics(self):\n",
    "        \"\"\"List of game categories (i.e. tile-laying, set collection)\"\"\"\n",
    "        link = self.item['link']\n",
    "        try:\n",
    "            link_names = [ii['@type'] for ii in link]\n",
    "            names_index = [i for i, x in enumerate(link_names) if x == 'boardgamemechanic']\n",
    "            mechanics = [link[ii]['@value'] for ii in names_index]\n",
    "        except:\n",
    "            link_names = 'NEDD A FIX'\n",
    "        return mechanics\n",
    "        \n",
    "    @property\n",
    "    def game_family(self):\n",
    "        \"\"\"List of game families (i.e. Kickstarter, Made in Canda)\"\"\"\n",
    "        link = self.item['link']\n",
    "        link_names = [ii['@type'] for ii in link]\n",
    "        names_index = [i for i, x in enumerate(link_names) if x == 'boardgamefamily']\n",
    "        family = [link[ii]['@value'] for ii in names_index]\n",
    "        \n",
    "        return family\n",
    "        \n",
    "    @property\n",
    "    def implementations(self):\n",
    "        \"\"\"Does game implement another? (e.g. Pandemic: Legacy re-implements Pandemic)\"\"\"\n",
    "        link = self.item['link']\n",
    "        link_names = [ii['@type'] for ii in link]\n",
    "        names_index = [i for i, x in enumerate(link_names) if x == 'boardgameimplementation']\n",
    "        implements = [link[ii]['@value'] for ii in names_index]\n",
    "        \n",
    "        return implements\n",
    "        \n",
    "    @property\n",
    "    def designers(self):\n",
    "        \"\"\"List of game's designers\"\"\"\n",
    "        link = self.item['link']\n",
    "        link_names = [ii['@type'] for ii in link]\n",
    "        names_index = [i for i, x in enumerate(link_names) if x == 'boardgamedesigner']\n",
    "        designers = [link[ii]['@value'] for ii in names_index]\n",
    "        \n",
    "        return designers\n",
    "        \n",
    "    @property\n",
    "    def artists(self):\n",
    "        \"\"\"List of game's artists\"\"\"\n",
    "        link = self.item['link']\n",
    "        link_names = [ii['@type'] for ii in link]\n",
    "        names_index = [i for i, x in enumerate(link_names) if x == 'boardgameartist']\n",
    "        artists = [link[ii]['@value'] for ii in names_index]\n",
    "        \n",
    "        return artists\n",
    "        \n",
    "    @property\n",
    "    def publishers(self):\n",
    "        \"\"\"List of game's Publisher\"\"\"\n",
    "        link = self.item['link']\n",
    "        try:\n",
    "            link_names = [ii['@type'] for ii in link]\n",
    "            names_index = [i for i, x in enumerate(link_names) if x == 'boardgamepublisher']\n",
    "            publishers = [link[ii]['@value'] for ii in names_index]\n",
    "        except:\n",
    "            print(link[0])\n",
    "            link_names = link[0]['@type']\n",
    "            names_index = [i for i, x in enumerate(link_names) if x == 'boardgamepublisher']\n",
    "            publishers = link[0] #['@value']\n",
    "        return publishers\n",
    "    \n",
    "    \n",
    "    \n",
    "    \n",
    "        \n",
    "    @property\n",
    "    def rank(self):\n",
    "        \"\"\"Dictionary of games various ranks (e.g. Overall, Strategy Games, Family, etc.)\"\"\"\n",
    "\n",
    "        rankings = self.statistics['ratings']['ranks']['rank']\n",
    "        \n",
    "        num_rank_names = sum([i == '@name'for i in rankings])\n",
    "        \n",
    "        if num_rank_names == 1:\n",
    "            if type(rankings) is int:\n",
    "                ranks = {'boardgame':float(rankings['@value'])}\n",
    "            else:\n",
    "                ranks = {'boardgame': 0}\n",
    "        else:\n",
    "            rank_names = [ii['@name'] for ii in rankings]\n",
    "            \n",
    "            ranks = {}\n",
    "            def _get_ranking(name):\n",
    "                name_rank = rank_names.index(name)\n",
    "                if type(rankings[name_rank]['@value']) is int:\n",
    "                    ranks[name] = int(rankings[name_rank]['@value'])\n",
    "                else:\n",
    "                    ranks[name] = 0\n",
    "            for ii in rank_names:\n",
    "                _get_ranking(ii)\n",
    "        \n",
    "        return ranks\n",
    "    \n",
    "    @property\n",
    "    def ranks_bayes(self):\n",
    "        \"\"\"Dictionary of games various bayesian ranks (e.g. Overall, Strategy Games, Family, etc.)\"\"\"\n",
    "        rankings = self.statistics['ratings']['ranks']['rank']\n",
    "        num_rank_names = sum([i == '@name' for i in rankings])\n",
    "        \n",
    "        if num_rank_names == 1:\n",
    "            ranks = {'boardgame':float(rankings['@bayesaverage'])}\n",
    "        \n",
    "        else:\n",
    "            rank_names = [ii['@name'] for ii in rankings]\n",
    "            \n",
    "            ranks = {}\n",
    "            def _get_bayes_ranking(name):\n",
    "                name_rank = rank_names.index(name)\n",
    "                ranks[name] = float(rankings[name_rank]['@bayesaverage'])\n",
    "            \n",
    "            for ii in rank_names:\n",
    "                _get_bayes_ranking(ii)\n",
    "        \n",
    "        return ranks\n",
    "    \n",
    "    @property\n",
    "    def users_rated(self):\n",
    "        \"\"\"Number of BGG users who've rated game\"\"\"\n",
    "        return int(self.statistics['ratings']['usersrated']['@value'])\n",
    "        \n",
    "    @property\n",
    "    def avg_rating(self):\n",
    "        \"\"\"Average BGG user rating (10-point scale)\"\"\"\n",
    "        return float(self.statistics['ratings']['average']['@value'])\n",
    "        \n",
    "    @property\n",
    "    def bayes_avg_rating(self):\n",
    "        \"\"\"Average BGG user's bayesian rating (10-point scale)\"\"\"\n",
    "        return float(self.statistics['ratings']['bayesaverage']['@value'])\n",
    "    \n",
    "    @property\n",
    "    def stdev_rating(self):\n",
    "        \"\"\"Standard deviation of BGG user rating (10-point scale)\"\"\"\n",
    "        return float(self.statistics['ratings']['stddev']['@value'])\n",
    "    \n",
    "    @property\n",
    "    def median_rating(self):\n",
    "        \"\"\"Median BGG user rating (10-point scale)\"\"\"\n",
    "        return float(self.statistics['ratings']['median']['@value'])\n",
    "        \n",
    "    @property\n",
    "    def num_owned(self):\n",
    "        \"\"\"Number of BGG users who own this game\"\"\"\n",
    "        return  int(self.statistics['ratings']['owned']['@value'])\n",
    "        \n",
    "    @property\n",
    "    def num_trading(self):\n",
    "        \"\"\"Number of copies being traded on BGG marketplace\"\"\"\n",
    "        return int(self.statistics['ratings']['trading']['@value'])\n",
    "        \n",
    "    @property\n",
    "    def num_wanting(self):\n",
    "        \"\"\"Number of BGG users who want to buy this game\"\"\"\n",
    "        return int(self.statistics['ratings']['wanting']['@value'])\n",
    "        \n",
    "    @property\n",
    "    def num_wishing(self):\n",
    "        \"\"\"Number of BGG users who wish they had this game\"\"\"\n",
    "        return int(self.statistics['ratings']['wishing']['@value'])\n",
    "        \n",
    "    @property\n",
    "    def num_comments(self):\n",
    "        \"\"\"Number of comments about the game\"\"\"\n",
    "        return int(self.statistics['ratings']['numcomments']['@value'])\n",
    "        \n",
    "    @property\n",
    "    def num_weights(self):\n",
    "        \"\"\"Number of BGG users who have assigned the game a weight (5-point scale)\"\"\"\n",
    "        return int(self.statistics['ratings']['numweights']['@value'])\n",
    "        \n",
    "    @property\n",
    "    def avg_weight(self):\n",
    "        \"\"\"Average weight assigned by BGG users (5-point scale)\"\"\"\n",
    "        return float(self.statistics['ratings']['averageweight']['@value'])"
   ]
  },
  {
   "cell_type": "markdown",
   "metadata": {},
   "source": [
    "## Import necessary packages\n",
    "\n",
    "First, import all packages necessary for this extraction."
   ]
  },
  {
   "cell_type": "code",
   "execution_count": 2,
   "metadata": {},
   "outputs": [],
   "source": [
    "\"\"\"Main boardgame script file\"\"\"\n",
    "\n",
    "import pickle\n",
    "import pandas as pd\n",
    "import time \n",
    "# from urllib2 import urlopen\n",
    "from urllib.request import urlopen\n",
    "import requests\n",
    "import re\n",
    "from bs4 import BeautifulSoup as BS\n",
    "import xmltodict\n",
    "import time\n",
    "import progressbar\n",
    "import sys\n",
    "import numpy as np\n",
    "import pyodbc\n",
    "import json\n",
    "import math\n",
    "from tqdm import tqdm"
   ]
  },
  {
   "cell_type": "code",
   "execution_count": 3,
   "metadata": {},
   "outputs": [],
   "source": [
    "total_timer_start = time.time()"
   ]
  },
  {
   "cell_type": "markdown",
   "metadata": {},
   "source": [
    "## Download pages from the internet (not yet games details, just ID and Name)"
   ]
  },
  {
   "cell_type": "markdown",
   "metadata": {},
   "source": [
    "This function is used to download the Game ID from BGG search page. This will be helpful to collect information about the game itself later on, based on the IDs.\n",
    "\n",
    "The Game name is also downloaded, but in the end, it is not used."
   ]
  },
  {
   "cell_type": "code",
   "execution_count": 4,
   "metadata": {},
   "outputs": [],
   "source": [
    "def pull_game_names(page):\n",
    "    \"\"\"Get all game names and IDs from a page of BGG website.\n",
    "    \n",
    "    Description:\n",
    "        Scrapes Board Game Geek website games in order of rank.\n",
    "        Returns a dictionary of games titles:BGG ID, given a page number\n",
    "        Games are listed in increments of 50\n",
    "        \n",
    "    inputs:\n",
    "        page (int): Page number (starts at 1)\n",
    "        \n",
    "    returns:\n",
    "        game_list (dict): {Name:ID}\n",
    "    \"\"\"\n",
    "    url = 'https://boardgamegeek.com/browse/boardgame/page/{}'.format(page)\n",
    "    bgg_page = urlopen(url)\n",
    "\n",
    "    my_bytes = bgg_page.read()\n",
    "    url_text = my_bytes.decode(\"utf8\")\n",
    "    bgg_page.close()\n",
    "    url_text = BS(url_text, 'html.parser')\n",
    "    \n",
    "    games = url_text.find_all(\"td\", class_=\"collection_objectname\")\n",
    "    \n",
    "    def get_game_name(item):\n",
    "        game_name = item.findNext('a').text\n",
    "        return(game_name)\n",
    "        \n",
    "    def get_game_ID(item):\n",
    "        game_link_id = str(item.findNext('a'))\n",
    "        game_link_id = re.search('[0-9]{1,7}', game_link_id).group(0)\n",
    "        return(int(game_link_id))\n",
    "    \n",
    "    game_list = {get_game_name(ii):get_game_ID(ii) for ii in games}\n",
    "    \n",
    "\n",
    "    return(game_list)"
   ]
  },
  {
   "cell_type": "code",
   "execution_count": 5,
   "metadata": {},
   "outputs": [],
   "source": [
    "def list_to_boardgame_class(num_pages):\n",
    "\n",
    "    \"\"\"Return list of Boardgame Objects\n",
    "    \n",
    "    Description:\n",
    "        Calls pull_game_names() and boardgame_info(), passing information to \n",
    "        Boardgame() class, and returns a list of all class objects.\n",
    "     \n",
    "    Input:\n",
    "        num_pages (int): Number of pages of games (100 per page)\n",
    "    \n",
    "    Returns:\n",
    "        all_games (list): List of each game as a Boardgame object\n",
    "    \n",
    "    \"\"\"\n",
    "    ## Get boardgame names and IDs for the top 1000 games (10 pages)\n",
    "    game_list = [pull_game_names(ii) for ii in progressbar.log_progress(range(1, num_pages + 1),'Game List')]\n",
    "    game_IDs = [x for y in list([ii.values() for ii in game_list]) for x in y]\n",
    "    ## Connect IDs with BGG API, get game information\n",
    "\n",
    "    return(game_IDs) #(game_list, game_IDs)"
   ]
  },
  {
   "cell_type": "markdown",
   "metadata": {},
   "source": [
    "## Procedure Start\n",
    "\n",
    "We start here by going througth the pages and collecting the BoardGame ID. Then, we append that to a list with all games IDs\n",
    "\n",
    "### Feedback\n",
    "Sometimes scripts run for a long time without stopping, specialy with URL request, since those rely on the connection itself. Or even for long loops.\n",
    "In this case, both things happen, so I added a ProgressBar as a way to know if the script is really running correctly. \n",
    "\n",
    "The user feedback function is called **progressbar.log_progress(list, string)**"
   ]
  },
  {
   "cell_type": "code",
   "execution_count": null,
   "metadata": {},
   "outputs": [
    {
     "data": {
      "application/vnd.jupyter.widget-view+json": {
       "model_id": "7489ae4305e9428097a0c3da753bd422",
       "version_major": 2,
       "version_minor": 0
      },
      "text/plain": [
       "VBox(children=(HTML(value=''), IntProgress(value=0, max=750)))"
      ]
     },
     "metadata": {},
     "output_type": "display_data"
    }
   ],
   "source": [
    "start = time.time()\n",
    "\n",
    "num_pages = 750\n",
    "\n",
    "if __name__ == \"__main__\":\n",
    "    ## Get boardgame names and IDs for the top xxx games (100 * num_pages)\n",
    "    all_games_IDs = list_to_boardgame_class(num_pages)\n",
    "    print(\"Scraping complete\")\n",
    "\n",
    "end = time.time()\n",
    "print('Elapsed time: ', time.strftime(\"%H:%M:%S\", time.gmtime(end-start)))"
   ]
  },
  {
   "cell_type": "code",
   "execution_count": 7,
   "metadata": {},
   "outputs": [
    {
     "data": {
      "text/plain": [
       "74972"
      ]
     },
     "execution_count": 7,
     "metadata": {},
     "output_type": "execute_result"
    }
   ],
   "source": [
    "len(all_games_IDs)"
   ]
  },
  {
   "cell_type": "markdown",
   "metadata": {},
   "source": [
    "## Building URL with 500 games to increase download performance"
   ]
  },
  {
   "cell_type": "code",
   "execution_count": 8,
   "metadata": {},
   "outputs": [],
   "source": [
    "all_games_IDs_backup = all_games_IDs.copy()"
   ]
  },
  {
   "cell_type": "code",
   "execution_count": 9,
   "metadata": {},
   "outputs": [
    {
     "name": "stdout",
     "output_type": "stream",
     "text": [
      "Number of searches: 167\n"
     ]
    }
   ],
   "source": [
    "ids_already_processed = []\n",
    "list_of_urls = []\n",
    "number_of_games_on_search = 450\n",
    "search_len = math.ceil(len(all_games_IDs)/number_of_games_on_search) #math.ceil will round up to the next integer\n",
    "if search_len < 1:\n",
    "    search_len = 1\n",
    "print('Number of searches:', search_len)"
   ]
  },
  {
   "cell_type": "code",
   "execution_count": 10,
   "metadata": {},
   "outputs": [],
   "source": [
    "for i in range(int(search_len)):\n",
    "    url = 'https://boardgamegeek.com/xmlapi2/thing?id='\n",
    "    for ID in all_games_IDs[:number_of_games_on_search]:\n",
    "            url = url + str(ID) + ','\n",
    "            ids_already_processed.append(ID)\n",
    "            all_games_IDs.remove(ID)\n",
    "    url= url[:-1] + '&stats=1'\n",
    "    list_of_urls.append(url)"
   ]
  },
  {
   "cell_type": "code",
   "execution_count": 11,
   "metadata": {},
   "outputs": [
    {
     "name": "stdout",
     "output_type": "stream",
     "text": [
      "Number of XMLs is 167 ,with a total of  74972 games\n"
     ]
    }
   ],
   "source": [
    "print('Number of XMLs is', len(list_of_urls), ',with a total of ',len(ids_already_processed),'games')"
   ]
  },
  {
   "cell_type": "markdown",
   "metadata": {},
   "source": [
    "## Download game details\n",
    "\n",
    "If game IDs collected and URLs group and ready, we can finally download the XMLs from BGG Website"
   ]
  },
  {
   "cell_type": "markdown",
   "metadata": {},
   "source": [
    "### First try\n",
    "Sometimes the page returns an error for a few requests. Since this takes a long time to finish, I divided this in two parts\n",
    "\n",
    "1) First, download pages from the web and store in a list\n",
    "    a) While doing that, check for errors in the download and store on another list for a second retry\n",
    "\n",
    "2) With everything local, parse the XMLL. This will avoid having to download everything again in search for errors"
   ]
  },
  {
   "cell_type": "markdown",
   "metadata": {},
   "source": [
    "### Checkpoint"
   ]
  },
  {
   "cell_type": "code",
   "execution_count": 12,
   "metadata": {},
   "outputs": [],
   "source": [
    "save_list_of_urls = list_of_urls.copy()"
   ]
  },
  {
   "cell_type": "code",
   "execution_count": 13,
   "metadata": {},
   "outputs": [],
   "source": [
    "def download_bg_details(list_of_urls_to_download):\n",
    "    attempts = 0\n",
    "    for url in progressbar.log_progress(list_of_urls_to_download, 'Downloading Pages (Multiple Games Details)'):\n",
    "            page = requests.get(url)\n",
    "            if page.status_code == requests.codes.ok:\n",
    "                successful_requests.append(page)\n",
    "            else:\n",
    "                bad_url_request.append(url)\n",
    "    if len(bad_url_request) != 0 and attempts <=10:\n",
    "        download_bg_details(bad_url_request)\n",
    "        attempts += 1\n",
    "    return successful_requests"
   ]
  },
  {
   "cell_type": "code",
   "execution_count": 14,
   "metadata": {},
   "outputs": [],
   "source": [
    "first_half = int(round(len(list_of_urls)/2,0))\n",
    "second_half = int((len(list_of_urls) - first_half)*-1)"
   ]
  },
  {
   "cell_type": "code",
   "execution_count": 15,
   "metadata": {},
   "outputs": [
    {
     "data": {
      "application/vnd.jupyter.widget-view+json": {
       "model_id": "f728a6510900446e94e068da79ecebdd",
       "version_major": 2,
       "version_minor": 0
      },
      "text/plain": [
       "VBox(children=(HTML(value=''), IntProgress(value=0, max=84)))"
      ]
     },
     "metadata": {},
     "output_type": "display_data"
    },
    {
     "data": {
      "application/vnd.jupyter.widget-view+json": {
       "model_id": "3869e8686f5f485782491c8820e5234e",
       "version_major": 2,
       "version_minor": 0
      },
      "text/plain": [
       "VBox(children=(HTML(value=''), IntProgress(value=0, max=84)))"
      ]
     },
     "metadata": {},
     "output_type": "display_data"
    },
    {
     "name": "stdout",
     "output_type": "stream",
     "text": [
      "Elapsed time:  00:17:45\n"
     ]
    }
   ],
   "source": [
    "start = time.time()\n",
    "bad_url_request = []\n",
    "successful_requests = []\n",
    "\n",
    "downloaded_xmls = download_bg_details(list_of_urls[:first_half])\n",
    "downloaded_xmls = download_bg_details(list_of_urls[:second_half])\n",
    "\n",
    "end = time.time()\n",
    "print('Elapsed time: ', time.strftime(\"%H:%M:%S\", time.gmtime(end-start)))"
   ]
  },
  {
   "cell_type": "code",
   "execution_count": 16,
   "metadata": {},
   "outputs": [
    {
     "data": {
      "text/plain": [
       "0"
      ]
     },
     "execution_count": 16,
     "metadata": {},
     "output_type": "execute_result"
    }
   ],
   "source": [
    "dup = []\n",
    "unique = []\n",
    "for item in downloaded_xmls:\n",
    "    if item not in unique:\n",
    "        unique.append(item)\n",
    "    else:\n",
    "        dup.append(item)\n",
    "len(dup)"
   ]
  },
  {
   "cell_type": "code",
   "execution_count": 17,
   "metadata": {},
   "outputs": [],
   "source": [
    "backup_of_downloads = downloaded_xmls.copy"
   ]
  },
  {
   "cell_type": "markdown",
   "metadata": {},
   "source": [
    "## Breaking down the XMLs received into a list with BoardGame objects"
   ]
  },
  {
   "cell_type": "code",
   "execution_count": 18,
   "metadata": {},
   "outputs": [
    {
     "data": {
      "application/vnd.jupyter.widget-view+json": {
       "model_id": "a37e5f208df046ff9928af91e5114610",
       "version_major": 2,
       "version_minor": 0
      },
      "text/plain": [
       "VBox(children=(HTML(value=''), IntProgress(value=0, max=168)))"
      ]
     },
     "metadata": {},
     "output_type": "display_data"
    },
    {
     "name": "stdout",
     "output_type": "stream",
     "text": [
      "Elapsed time:  00:01:28\n"
     ]
    }
   ],
   "source": [
    "start = time.time()\n",
    "flatted_list = []\n",
    "\n",
    "for item in progressbar.log_progress(downloaded_xmls, 'Pages on XML'):\n",
    "    page_xml = xmltodict.parse(item.content)\n",
    "    for each_game in page_xml['items']['item']:\n",
    "        temp = BoardGame(each_game)\n",
    "        flatted_list.append(temp)\n",
    "end = time.time()\n",
    "print('Elapsed time: ', time.strftime(\"%H:%M:%S\", time.gmtime(end-start)))"
   ]
  },
  {
   "cell_type": "markdown",
   "metadata": {},
   "source": [
    "## Build DataFrame\n",
    "\n",
    "Finaly we build the DataFrame of all games. This process is taking very long to complete. Improvements may be necessary."
   ]
  },
  {
   "cell_type": "code",
   "execution_count": 21,
   "metadata": {},
   "outputs": [
    {
     "data": {
      "application/vnd.jupyter.widget-view+json": {
       "model_id": "18a0e046a73c45ca9d07f7dccc06340d",
       "version_major": 2,
       "version_minor": 0
      },
      "text/plain": [
       "VBox(children=(HTML(value=''), IntProgress(value=0, max=75600)))"
      ]
     },
     "metadata": {},
     "output_type": "display_data"
    },
    {
     "data": {
      "application/vnd.jupyter.widget-view+json": {
       "model_id": "0c844b86f05e4b9c8bd9a6700b32d06e",
       "version_major": 2,
       "version_minor": 0
      },
      "text/plain": [
       "VBox(children=(HTML(value=''), IntProgress(value=0, max=75600)))"
      ]
     },
     "metadata": {},
     "output_type": "display_data"
    },
    {
     "data": {
      "application/vnd.jupyter.widget-view+json": {
       "model_id": "45dfa8c02e43449b9f308b8ac59d7e4e",
       "version_major": 2,
       "version_minor": 0
      },
      "text/plain": [
       "VBox(children=(HTML(value=''), IntProgress(value=0, max=75600)))"
      ]
     },
     "metadata": {},
     "output_type": "display_data"
    },
    {
     "data": {
      "application/vnd.jupyter.widget-view+json": {
       "model_id": "8f0fbc3f8bb645d4812e0f83a837d87c",
       "version_major": 2,
       "version_minor": 0
      },
      "text/plain": [
       "VBox(children=(HTML(value=''), IntProgress(value=0, max=75600)))"
      ]
     },
     "metadata": {},
     "output_type": "display_data"
    },
    {
     "data": {
      "application/vnd.jupyter.widget-view+json": {
       "model_id": "fa765121b26148559c1f70b0bca2c253",
       "version_major": 2,
       "version_minor": 0
      },
      "text/plain": [
       "VBox(children=(HTML(value=''), IntProgress(value=0, max=75600)))"
      ]
     },
     "metadata": {},
     "output_type": "display_data"
    },
    {
     "data": {
      "application/vnd.jupyter.widget-view+json": {
       "model_id": "7b6a0536f4e84cc9a259c24cfe11ab55",
       "version_major": 2,
       "version_minor": 0
      },
      "text/plain": [
       "VBox(children=(HTML(value=''), IntProgress(value=0, max=75600)))"
      ]
     },
     "metadata": {},
     "output_type": "display_data"
    },
    {
     "data": {
      "application/vnd.jupyter.widget-view+json": {
       "model_id": "d73c44b18af34b7e8da42a63f5683a6f",
       "version_major": 2,
       "version_minor": 0
      },
      "text/plain": [
       "VBox(children=(HTML(value=''), IntProgress(value=0, max=75600)))"
      ]
     },
     "metadata": {},
     "output_type": "display_data"
    },
    {
     "data": {
      "application/vnd.jupyter.widget-view+json": {
       "model_id": "0a0bc58e72f44675bf19fe620ebe8c8a",
       "version_major": 2,
       "version_minor": 0
      },
      "text/plain": [
       "VBox(children=(HTML(value=''), IntProgress(value=0, max=75600)))"
      ]
     },
     "metadata": {},
     "output_type": "display_data"
    },
    {
     "data": {
      "application/vnd.jupyter.widget-view+json": {
       "model_id": "0e3de0d8a0954e80b4e3c8e2b6c4243f",
       "version_major": 2,
       "version_minor": 0
      },
      "text/plain": [
       "VBox(children=(HTML(value=''), IntProgress(value=0, max=75600)))"
      ]
     },
     "metadata": {},
     "output_type": "display_data"
    },
    {
     "data": {
      "application/vnd.jupyter.widget-view+json": {
       "model_id": "e9d3479f63a54c01aaacb889180fec2a",
       "version_major": 2,
       "version_minor": 0
      },
      "text/plain": [
       "VBox(children=(HTML(value=''), IntProgress(value=0, max=75600)))"
      ]
     },
     "metadata": {},
     "output_type": "display_data"
    },
    {
     "data": {
      "application/vnd.jupyter.widget-view+json": {
       "model_id": "f02d1df746144188be2e4446c0448bcc",
       "version_major": 2,
       "version_minor": 0
      },
      "text/plain": [
       "VBox(children=(HTML(value=''), IntProgress(value=0, max=75600)))"
      ]
     },
     "metadata": {},
     "output_type": "display_data"
    },
    {
     "data": {
      "application/vnd.jupyter.widget-view+json": {
       "model_id": "b190ae89f6f144249bc1ac8b1c3ad4e5",
       "version_major": 2,
       "version_minor": 0
      },
      "text/plain": [
       "VBox(children=(HTML(value=''), IntProgress(value=0, max=75600)))"
      ]
     },
     "metadata": {},
     "output_type": "display_data"
    },
    {
     "data": {
      "application/vnd.jupyter.widget-view+json": {
       "model_id": "4d35be3561fb41759431f2bc7a9db2da",
       "version_major": 2,
       "version_minor": 0
      },
      "text/plain": [
       "VBox(children=(HTML(value=''), IntProgress(value=0, max=75600)))"
      ]
     },
     "metadata": {},
     "output_type": "display_data"
    },
    {
     "data": {
      "application/vnd.jupyter.widget-view+json": {
       "model_id": "722e17db385c463a910fb10a3bbc8947",
       "version_major": 2,
       "version_minor": 0
      },
      "text/plain": [
       "VBox(children=(HTML(value=''), IntProgress(value=0, max=75600)))"
      ]
     },
     "metadata": {},
     "output_type": "display_data"
    },
    {
     "data": {
      "application/vnd.jupyter.widget-view+json": {
       "model_id": "33d84c04601e465eb371650d9dc13a3c",
       "version_major": 2,
       "version_minor": 0
      },
      "text/plain": [
       "VBox(children=(HTML(value=''), IntProgress(value=0, max=75600)))"
      ]
     },
     "metadata": {},
     "output_type": "display_data"
    },
    {
     "data": {
      "application/vnd.jupyter.widget-view+json": {
       "model_id": "2908791a1b194247b5889dd1201fe662",
       "version_major": 2,
       "version_minor": 0
      },
      "text/plain": [
       "VBox(children=(HTML(value=''), IntProgress(value=0, max=75600)))"
      ]
     },
     "metadata": {},
     "output_type": "display_data"
    },
    {
     "data": {
      "application/vnd.jupyter.widget-view+json": {
       "model_id": "ca61ba48a83e4ba4b929c3e9bcfa2d91",
       "version_major": 2,
       "version_minor": 0
      },
      "text/plain": [
       "VBox(children=(HTML(value=''), IntProgress(value=0, max=75600)))"
      ]
     },
     "metadata": {},
     "output_type": "display_data"
    },
    {
     "data": {
      "application/vnd.jupyter.widget-view+json": {
       "model_id": "254f63d9806b4185b231c0176fc22ffc",
       "version_major": 2,
       "version_minor": 0
      },
      "text/plain": [
       "VBox(children=(HTML(value=''), IntProgress(value=0, max=75600)))"
      ]
     },
     "metadata": {},
     "output_type": "display_data"
    },
    {
     "data": {
      "application/vnd.jupyter.widget-view+json": {
       "model_id": "2767f34f87c84179be9b7655d06b9ac7",
       "version_major": 2,
       "version_minor": 0
      },
      "text/plain": [
       "VBox(children=(HTML(value=''), IntProgress(value=0, max=75600)))"
      ]
     },
     "metadata": {},
     "output_type": "display_data"
    },
    {
     "data": {
      "application/vnd.jupyter.widget-view+json": {
       "model_id": "815713a6264440ff97fc2749081bec00",
       "version_major": 2,
       "version_minor": 0
      },
      "text/plain": [
       "VBox(children=(HTML(value=''), IntProgress(value=0, max=75600)))"
      ]
     },
     "metadata": {},
     "output_type": "display_data"
    },
    {
     "data": {
      "application/vnd.jupyter.widget-view+json": {
       "model_id": "d975eb5d88834867ae083ddd242960e4",
       "version_major": 2,
       "version_minor": 0
      },
      "text/plain": [
       "VBox(children=(HTML(value=''), IntProgress(value=0, max=75600)))"
      ]
     },
     "metadata": {},
     "output_type": "display_data"
    },
    {
     "data": {
      "application/vnd.jupyter.widget-view+json": {
       "model_id": "b44380dbbe224d64b32b93a28a943e88",
       "version_major": 2,
       "version_minor": 0
      },
      "text/plain": [
       "VBox(children=(HTML(value=''), IntProgress(value=0, max=75600)))"
      ]
     },
     "metadata": {},
     "output_type": "display_data"
    },
    {
     "data": {
      "application/vnd.jupyter.widget-view+json": {
       "model_id": "1a227ab21cee4d8bbfc0c41ced42378d",
       "version_major": 2,
       "version_minor": 0
      },
      "text/plain": [
       "VBox(children=(HTML(value=''), IntProgress(value=0, max=75600)))"
      ]
     },
     "metadata": {},
     "output_type": "display_data"
    },
    {
     "data": {
      "application/vnd.jupyter.widget-view+json": {
       "model_id": "979459862f4940b3bcccc9688e9d756b",
       "version_major": 2,
       "version_minor": 0
      },
      "text/plain": [
       "VBox(children=(HTML(value=''), IntProgress(value=0, max=75600)))"
      ]
     },
     "metadata": {},
     "output_type": "display_data"
    },
    {
     "data": {
      "application/vnd.jupyter.widget-view+json": {
       "model_id": "dfbb518c240b44549acb8bf7f8ddc831",
       "version_major": 2,
       "version_minor": 0
      },
      "text/plain": [
       "VBox(children=(HTML(value=''), IntProgress(value=0, max=75600)))"
      ]
     },
     "metadata": {},
     "output_type": "display_data"
    },
    {
     "data": {
      "application/vnd.jupyter.widget-view+json": {
       "model_id": "3a077ceb6ff04c75b7faea8a744e3cf9",
       "version_major": 2,
       "version_minor": 0
      },
      "text/plain": [
       "VBox(children=(HTML(value=''), IntProgress(value=0, max=75600)))"
      ]
     },
     "metadata": {},
     "output_type": "display_data"
    },
    {
     "data": {
      "application/vnd.jupyter.widget-view+json": {
       "model_id": "f56f57d070514367b0eda1a0e49a61f4",
       "version_major": 2,
       "version_minor": 0
      },
      "text/plain": [
       "VBox(children=(HTML(value=''), IntProgress(value=0, max=75600)))"
      ]
     },
     "metadata": {},
     "output_type": "display_data"
    }
   ],
   "source": [
    "lst = flatted_list\n",
    "all_games = lst[:]\n",
    "bg_df = pd.DataFrame()\n",
    "\n",
    "bg_df = pd.DataFrame()\n",
    "bg_df['Name'] = [i.name for i in progressbar.log_progress(flatted_list, 'Scanning Name')]\n",
    "bg_df['ID'] = [i.id for i in progressbar.log_progress(flatted_list, 'Scanning ID')] \n",
    "try:\n",
    "    bg_df['Publisher'] = [i.publishers for i in progressbar.log_progress(flatted_list, 'Scanning Publishers')]\n",
    "except:\n",
    "    bg_df['Publisher'] = 'Not Found'\n",
    "    \n",
    "bg_df['Minimum Players'] = [i.min_players for i in progressbar.log_progress(flatted_list, 'Scanning Min Players')]\n",
    "bg_df['Max Players'] = [i.max_players for i in progressbar.log_progress(flatted_list, 'Scanning Max Players')]\n",
    "bg_df['Num_Ratings'] = [i.users_rated for i in progressbar.log_progress(flatted_list, 'Scanning Num Ratings')]\n",
    "bg_df['Avg_Rating'] = [i.avg_rating for i in progressbar.log_progress(flatted_list, 'Scanning Ratings')]\n",
    "bg_df['Bayes_Avg_Rating'] = [i.bayes_avg_rating for i in progressbar.log_progress(flatted_list, 'Scanning Bayes Rating')]\n",
    "bg_df['Avg_Weight'] = [i.avg_weight for i in progressbar.log_progress(flatted_list, 'Scanning AVG Weight')]\n",
    "bg_df['StDev_Rating'] = [i.stdev_rating for i in progressbar.log_progress(flatted_list, 'Scanning StDev Rating')]\n",
    "bg_df['Num_Owned'] = [i.num_owned for i in progressbar.log_progress(flatted_list, 'Scanning Num Owned')]\n",
    "bg_df['Num_Comments'] = [i.num_comments for i in progressbar.log_progress(flatted_list, 'Scanning Num Comments')]\n",
    "bg_df['Num_Trading'] = [i.num_trading for i in progressbar.log_progress(flatted_list, 'Scanning Num Tradings')]\n",
    "bg_df['Num_Wanting'] = [i.num_wanting for i in progressbar.log_progress(flatted_list, 'Scanning Num Waiting')]\n",
    "bg_df['Num_Wishing'] = [i.num_wishing for i in progressbar.log_progress(flatted_list, 'Scanning Num Wishing')]\n",
    "bg_df['Num_Weights'] = [i.num_weights for i in progressbar.log_progress(flatted_list, 'Scanning Num weights')]\n",
    "bg_df['Year'] = [i.year_published for i in progressbar.log_progress(flatted_list, 'Scanning Year Published')]\n",
    "\n",
    "## Rating\n",
    "bg_df['Num_Ratings'] = [i.users_rated for i in progressbar.log_progress(all_games, 'Scanning Num Ratings')]\n",
    "bg_df['Avg_Rating'] = [i.avg_rating for i in progressbar.log_progress(all_games, 'Scanning Ratings')]\n",
    "bg_df['Bayes_Avg_Rating'] = [i.bayes_avg_rating for i in progressbar.log_progress(all_games, 'Scanning Bayes Rating')]\n",
    "bg_df['Avg_Weight'] = [i.avg_weight for i in progressbar.log_progress(all_games, 'Scanning AVG Weight')]\n",
    "bg_df['StDev_Rating'] = [i.stdev_rating for i in progressbar.log_progress(all_games, 'Scanning StDev Rating')]\n",
    "\n",
    "## Players\n",
    "try:\n",
    "    bg_df['Pub_Min_Age'] = [i.min_age for i in progressbar.log_progress(all_games, 'Publisher Min Age')]\n",
    "except:\n",
    "    bg_df['Pub_Min_Age'] = 0\n",
    "\n",
    "\n",
    "BGG_Min_Age = []\n",
    "for i in all_games:\n",
    "    try:\n",
    "        BGG_Min_Age.append(i.suggested_player_age)\n",
    "    except:\n",
    "        BGG_Min_Age.append(np.nan)\n",
    "\n",
    "bg_df['BGG_Min_Age'] = BGG_Min_Age\n",
    "\n",
    "try:\n",
    "    bg_df['Pub_Min_Players'] = [i.min_players for i in progressbar.log_progress(all_games, 'Publisher Min Players')]\n",
    "except:\n",
    "    bg_df['Pub_Min_Players'] = 0\n",
    "\n",
    "try:\n",
    "    bg_df['Pub_Max_Players'] = [i.max_players for i in progressbar.log_progress(all_games, 'Publisher Max Players')]\n",
    "except:\n",
    "    bg_df['Pub_Max_Players'] = 0\n",
    "\n",
    "BGG_Num_Players = []\n",
    "for i in all_games:\n",
    "    try:\n",
    "        BGG_Num_Players.append(i.suggested_players)\n",
    "    except:\n",
    "        BGG_Num_Players.append(np.nan)\n",
    "\n",
    "bg_df['BGG_Num_Players'] = BGG_Num_Players\n",
    "try:\n",
    "    bg_df['Play_Time'] = [i.playing_time for i in progressbar.log_progress(all_games, 'Scanning Play Time')]\n",
    "except:\n",
    "    bg_df['Play_Time'] = 0\n",
    "\n",
    "## Ownership & Community Engagement\n",
    "bg_df['Num_Owned'] = [i.num_owned for i in progressbar.log_progress(all_games, 'Scanning Num Owned')]\n",
    "bg_df['Num_Comments'] = [i.num_comments for i in progressbar.log_progress(all_games, 'Scanning Num Comments')]\n",
    "bg_df['Num_Trading'] = [i.num_trading for i in progressbar.log_progress(all_games, 'Scanning Num Tradings')]\n",
    "bg_df['Num_Wanting'] = [i.num_wanting for i in progressbar.log_progress(all_games, 'Scanning Num Waiting')]\n",
    "bg_df['Num_Wishing'] = [i.num_wishing for i in progressbar.log_progress(all_games, 'Scanning Num Wishing')]\n",
    "bg_df['Num_Weights'] = [i.num_weights for i in progressbar.log_progress(all_games, 'Scanning Num weights')]\n",
    "try:\n",
    "    bg_df['Categories'] = [i.categories for i in progressbar.log_progress(all_games, 'Scanning Categories')]\n",
    "except:\n",
    "     bg_df['Categories'] = 0\n",
    "try:\n",
    "    bg_df['Mechanics'] = [i.mechanics for i in progressbar.log_progress(all_games, 'Scanning Mechanics')]\n",
    "except:\n",
    "    bg_df['Mechanics'] = 0\n",
    "### Ranks\n",
    "rank_categories = []\n",
    "for i in progressbar.log_progress(all_games, 'Rank categories'):\n",
    "    rank_categories.append(list(i.rank.keys()))\n",
    "\n",
    "unique_rank_categories = list(set([i for j in progressbar.log_progress(rank_categories, 'Rank categories') for i in j]))\n",
    "rank_columns = ['Name', 'ID'] + unique_rank_categories\n",
    "major_rank_df = pd.DataFrame(columns = rank_columns)\n",
    "\n",
    "for game in progressbar.log_progress(all_games, 'Rank'):\n",
    "    rank_data = game.rank\n",
    "    rank_data['Name'] = game.name\n",
    "    rank_data['ID'] = game.id\n",
    "    minor_rank_df = pd.DataFrame(rank_data, index=[0], columns = rank_columns)\n",
    "    major_rank_df = major_rank_df.append(minor_rank_df)"
   ]
  },
  {
   "cell_type": "code",
   "execution_count": 22,
   "metadata": {},
   "outputs": [
    {
     "data": {
      "text/html": [
       "<div>\n",
       "<style scoped>\n",
       "    .dataframe tbody tr th:only-of-type {\n",
       "        vertical-align: middle;\n",
       "    }\n",
       "\n",
       "    .dataframe tbody tr th {\n",
       "        vertical-align: top;\n",
       "    }\n",
       "\n",
       "    .dataframe thead th {\n",
       "        text-align: right;\n",
       "    }\n",
       "</style>\n",
       "<table border=\"1\" class=\"dataframe\">\n",
       "  <thead>\n",
       "    <tr style=\"text-align: right;\">\n",
       "      <th></th>\n",
       "      <th>Name</th>\n",
       "      <th>ID</th>\n",
       "      <th>Publisher</th>\n",
       "      <th>Minimum Players</th>\n",
       "      <th>Max Players</th>\n",
       "      <th>Num_Ratings</th>\n",
       "      <th>Avg_Rating</th>\n",
       "      <th>Bayes_Avg_Rating</th>\n",
       "      <th>Avg_Weight</th>\n",
       "      <th>StDev_Rating</th>\n",
       "      <th>...</th>\n",
       "      <th>Num_Weights</th>\n",
       "      <th>Year</th>\n",
       "      <th>Pub_Min_Age</th>\n",
       "      <th>BGG_Min_Age</th>\n",
       "      <th>Pub_Min_Players</th>\n",
       "      <th>Pub_Max_Players</th>\n",
       "      <th>BGG_Num_Players</th>\n",
       "      <th>Play_Time</th>\n",
       "      <th>Categories</th>\n",
       "      <th>Mechanics</th>\n",
       "    </tr>\n",
       "  </thead>\n",
       "  <tbody>\n",
       "    <tr>\n",
       "      <th>0</th>\n",
       "      <td>Gloomhaven</td>\n",
       "      <td>174430</td>\n",
       "      <td>Not Found</td>\n",
       "      <td>1</td>\n",
       "      <td>4</td>\n",
       "      <td>28863</td>\n",
       "      <td>8.86868</td>\n",
       "      <td>8.59398</td>\n",
       "      <td>3.7997</td>\n",
       "      <td>1.59463</td>\n",
       "      <td>...</td>\n",
       "      <td>1218</td>\n",
       "      <td>2017</td>\n",
       "      <td>12</td>\n",
       "      <td>14.0</td>\n",
       "      <td>1</td>\n",
       "      <td>4</td>\n",
       "      <td>3</td>\n",
       "      <td>120</td>\n",
       "      <td>0</td>\n",
       "      <td>0</td>\n",
       "    </tr>\n",
       "    <tr>\n",
       "      <th>1</th>\n",
       "      <td>Pandemic Legacy: Season 1</td>\n",
       "      <td>161936</td>\n",
       "      <td>Not Found</td>\n",
       "      <td>2</td>\n",
       "      <td>4</td>\n",
       "      <td>33379</td>\n",
       "      <td>8.62922</td>\n",
       "      <td>8.47506</td>\n",
       "      <td>2.8312</td>\n",
       "      <td>1.60196</td>\n",
       "      <td>...</td>\n",
       "      <td>936</td>\n",
       "      <td>2015</td>\n",
       "      <td>13</td>\n",
       "      <td>12.0</td>\n",
       "      <td>2</td>\n",
       "      <td>4</td>\n",
       "      <td>4</td>\n",
       "      <td>60</td>\n",
       "      <td>0</td>\n",
       "      <td>0</td>\n",
       "    </tr>\n",
       "    <tr>\n",
       "      <th>2</th>\n",
       "      <td>Terraforming Mars</td>\n",
       "      <td>167791</td>\n",
       "      <td>Not Found</td>\n",
       "      <td>1</td>\n",
       "      <td>5</td>\n",
       "      <td>44725</td>\n",
       "      <td>8.41172</td>\n",
       "      <td>8.25463</td>\n",
       "      <td>3.2260</td>\n",
       "      <td>1.36877</td>\n",
       "      <td>...</td>\n",
       "      <td>1708</td>\n",
       "      <td>2016</td>\n",
       "      <td>12</td>\n",
       "      <td>12.0</td>\n",
       "      <td>1</td>\n",
       "      <td>5</td>\n",
       "      <td>3</td>\n",
       "      <td>120</td>\n",
       "      <td>0</td>\n",
       "      <td>0</td>\n",
       "    </tr>\n",
       "    <tr>\n",
       "      <th>3</th>\n",
       "      <td>Through the Ages: A New Story of Civilization</td>\n",
       "      <td>182028</td>\n",
       "      <td>Not Found</td>\n",
       "      <td>2</td>\n",
       "      <td>4</td>\n",
       "      <td>17377</td>\n",
       "      <td>8.50946</td>\n",
       "      <td>8.24578</td>\n",
       "      <td>4.3830</td>\n",
       "      <td>1.49249</td>\n",
       "      <td>...</td>\n",
       "      <td>859</td>\n",
       "      <td>2015</td>\n",
       "      <td>14</td>\n",
       "      <td>14.0</td>\n",
       "      <td>2</td>\n",
       "      <td>4</td>\n",
       "      <td>3</td>\n",
       "      <td>120</td>\n",
       "      <td>0</td>\n",
       "      <td>0</td>\n",
       "    </tr>\n",
       "    <tr>\n",
       "      <th>4</th>\n",
       "      <td>Twilight Struggle</td>\n",
       "      <td>12333</td>\n",
       "      <td>Not Found</td>\n",
       "      <td>2</td>\n",
       "      <td>2</td>\n",
       "      <td>35885</td>\n",
       "      <td>8.31890</td>\n",
       "      <td>8.16854</td>\n",
       "      <td>3.5720</td>\n",
       "      <td>1.57927</td>\n",
       "      <td>...</td>\n",
       "      <td>3313</td>\n",
       "      <td>2005</td>\n",
       "      <td>13</td>\n",
       "      <td>14.0</td>\n",
       "      <td>2</td>\n",
       "      <td>2</td>\n",
       "      <td>2</td>\n",
       "      <td>180</td>\n",
       "      <td>0</td>\n",
       "      <td>0</td>\n",
       "    </tr>\n",
       "  </tbody>\n",
       "</table>\n",
       "<p>5 rows × 25 columns</p>\n",
       "</div>"
      ],
      "text/plain": [
       "                                            Name      ID  Publisher  \\\n",
       "0                                     Gloomhaven  174430  Not Found   \n",
       "1                      Pandemic Legacy: Season 1  161936  Not Found   \n",
       "2                              Terraforming Mars  167791  Not Found   \n",
       "3  Through the Ages: A New Story of Civilization  182028  Not Found   \n",
       "4                              Twilight Struggle   12333  Not Found   \n",
       "\n",
       "   Minimum Players  Max Players  Num_Ratings  Avg_Rating  Bayes_Avg_Rating  \\\n",
       "0                1            4        28863     8.86868           8.59398   \n",
       "1                2            4        33379     8.62922           8.47506   \n",
       "2                1            5        44725     8.41172           8.25463   \n",
       "3                2            4        17377     8.50946           8.24578   \n",
       "4                2            2        35885     8.31890           8.16854   \n",
       "\n",
       "   Avg_Weight  StDev_Rating  ...  Num_Weights  Year  Pub_Min_Age  BGG_Min_Age  \\\n",
       "0      3.7997       1.59463  ...         1218  2017           12         14.0   \n",
       "1      2.8312       1.60196  ...          936  2015           13         12.0   \n",
       "2      3.2260       1.36877  ...         1708  2016           12         12.0   \n",
       "3      4.3830       1.49249  ...          859  2015           14         14.0   \n",
       "4      3.5720       1.57927  ...         3313  2005           13         14.0   \n",
       "\n",
       "   Pub_Min_Players  Pub_Max_Players  BGG_Num_Players  Play_Time  Categories  \\\n",
       "0                1                4                3        120           0   \n",
       "1                2                4                4         60           0   \n",
       "2                1                5                3        120           0   \n",
       "3                2                4                3        120           0   \n",
       "4                2                2                2        180           0   \n",
       "\n",
       "   Mechanics  \n",
       "0          0  \n",
       "1          0  \n",
       "2          0  \n",
       "3          0  \n",
       "4          0  \n",
       "\n",
       "[5 rows x 25 columns]"
      ]
     },
     "execution_count": 22,
     "metadata": {},
     "output_type": "execute_result"
    }
   ],
   "source": [
    "bg_df.head()"
   ]
  },
  {
   "cell_type": "code",
   "execution_count": 23,
   "metadata": {},
   "outputs": [],
   "source": [
    "bg_df_backup = bg_df.copy()"
   ]
  },
  {
   "cell_type": "code",
   "execution_count": 24,
   "metadata": {},
   "outputs": [],
   "source": [
    "bg_df = bg_df.merge(major_rank_df, on = ['Name', 'ID'])"
   ]
  },
  {
   "cell_type": "code",
   "execution_count": null,
   "metadata": {},
   "outputs": [],
   "source": [
    "bg_df = bg_df.drop_duplicates(subset=\"ID\", keep='first', inplace=False)"
   ]
  },
  {
   "cell_type": "code",
   "execution_count": 28,
   "metadata": {},
   "outputs": [
    {
     "data": {
      "text/plain": [
       "(153288, 41)"
      ]
     },
     "execution_count": 28,
     "metadata": {},
     "output_type": "execute_result"
    }
   ],
   "source": [
    "bg_df.shape"
   ]
  },
  {
   "cell_type": "markdown",
   "metadata": {},
   "source": [
    "## Remove duplicates"
   ]
  },
  {
   "cell_type": "code",
   "execution_count": 29,
   "metadata": {},
   "outputs": [],
   "source": [
    "bg_df['BGG Rank'] = [i+1 for i in range(0,bg_df.shape[0])]"
   ]
  },
  {
   "cell_type": "code",
   "execution_count": 31,
   "metadata": {},
   "outputs": [
    {
     "data": {
      "text/html": [
       "<div>\n",
       "<style scoped>\n",
       "    .dataframe tbody tr th:only-of-type {\n",
       "        vertical-align: middle;\n",
       "    }\n",
       "\n",
       "    .dataframe tbody tr th {\n",
       "        vertical-align: top;\n",
       "    }\n",
       "\n",
       "    .dataframe thead th {\n",
       "        text-align: right;\n",
       "    }\n",
       "</style>\n",
       "<table border=\"1\" class=\"dataframe\">\n",
       "  <thead>\n",
       "    <tr style=\"text-align: right;\">\n",
       "      <th></th>\n",
       "      <th>Name</th>\n",
       "      <th>ID</th>\n",
       "      <th>Publisher</th>\n",
       "      <th>Minimum Players</th>\n",
       "      <th>Max Players</th>\n",
       "      <th>Num_Ratings</th>\n",
       "      <th>Avg_Rating</th>\n",
       "      <th>Bayes_Avg_Rating</th>\n",
       "      <th>Avg_Weight</th>\n",
       "      <th>StDev_Rating</th>\n",
       "      <th>...</th>\n",
       "      <th>thematic</th>\n",
       "      <th>boardgameaccessory</th>\n",
       "      <th>wargames</th>\n",
       "      <th>rpgitem</th>\n",
       "      <th>commodore64</th>\n",
       "      <th>abstracts</th>\n",
       "      <th>amiga</th>\n",
       "      <th>arcade</th>\n",
       "      <th>strategygames</th>\n",
       "      <th>BGG Rank</th>\n",
       "    </tr>\n",
       "  </thead>\n",
       "  <tbody>\n",
       "    <tr>\n",
       "      <th>0</th>\n",
       "      <td>Gloomhaven</td>\n",
       "      <td>174430</td>\n",
       "      <td>Not Found</td>\n",
       "      <td>1</td>\n",
       "      <td>4</td>\n",
       "      <td>28863</td>\n",
       "      <td>8.86868</td>\n",
       "      <td>8.59398</td>\n",
       "      <td>3.7997</td>\n",
       "      <td>1.59463</td>\n",
       "      <td>...</td>\n",
       "      <td>0</td>\n",
       "      <td>NaN</td>\n",
       "      <td>NaN</td>\n",
       "      <td>NaN</td>\n",
       "      <td>NaN</td>\n",
       "      <td>NaN</td>\n",
       "      <td>NaN</td>\n",
       "      <td>NaN</td>\n",
       "      <td>0</td>\n",
       "      <td>1</td>\n",
       "    </tr>\n",
       "  </tbody>\n",
       "</table>\n",
       "<p>1 rows × 42 columns</p>\n",
       "</div>"
      ],
      "text/plain": [
       "         Name      ID  Publisher  Minimum Players  Max Players  Num_Ratings  \\\n",
       "0  Gloomhaven  174430  Not Found                1            4        28863   \n",
       "\n",
       "   Avg_Rating  Bayes_Avg_Rating  Avg_Weight  StDev_Rating  ...  thematic  \\\n",
       "0     8.86868           8.59398      3.7997       1.59463  ...         0   \n",
       "\n",
       "   boardgameaccessory  wargames  rpgitem  commodore64  abstracts  amiga  \\\n",
       "0                 NaN       NaN      NaN          NaN        NaN    NaN   \n",
       "\n",
       "   arcade  strategygames  BGG Rank  \n",
       "0     NaN              0         1  \n",
       "\n",
       "[1 rows x 42 columns]"
      ]
     },
     "execution_count": 31,
     "metadata": {},
     "output_type": "execute_result"
    }
   ],
   "source": [
    "bg_df.head(1)"
   ]
  },
  {
   "cell_type": "markdown",
   "metadata": {},
   "source": [
    "## Add Today to Dataframe"
   ]
  },
  {
   "cell_type": "code",
   "execution_count": 32,
   "metadata": {},
   "outputs": [],
   "source": [
    "bg_df['Downloaded Date'] = time.strftime(\"%Y-%m-%d\", time.gmtime(time.time()))"
   ]
  },
  {
   "cell_type": "markdown",
   "metadata": {},
   "source": [
    "## Saving DataFrame to File and Database"
   ]
  },
  {
   "cell_type": "code",
   "execution_count": 43,
   "metadata": {},
   "outputs": [],
   "source": [
    "bg_df.to_csv('export.csv')"
   ]
  },
  {
   "cell_type": "code",
   "execution_count": 35,
   "metadata": {},
   "outputs": [
    {
     "name": "stdout",
     "output_type": "stream",
     "text": [
      "Total elapsed time:  03:05:06\n"
     ]
    }
   ],
   "source": [
    "total_timer_end = time.time()\n",
    "print('Total elapsed time: ', time.strftime(\"%H:%M:%S\", time.gmtime(total_timer_end-total_timer_start)))"
   ]
  },
  {
   "cell_type": "markdown",
   "metadata": {},
   "source": [
    "## Cleaning up"
   ]
  },
  {
   "cell_type": "markdown",
   "metadata": {},
   "source": [
    "#### Check Point"
   ]
  },
  {
   "cell_type": "code",
   "execution_count": 47,
   "metadata": {},
   "outputs": [
    {
     "data": {
      "text/plain": [
       "(153288, 43)"
      ]
     },
     "execution_count": 47,
     "metadata": {},
     "output_type": "execute_result"
    }
   ],
   "source": [
    "df = bg_df.copy()\n",
    "df.shape"
   ]
  },
  {
   "cell_type": "code",
   "execution_count": 49,
   "metadata": {},
   "outputs": [],
   "source": [
    "removeColumns = ['childrensgames', 'videogame', 'familygames', 'partygames', 'atarist', 'cgs', 'thematic', \\\n",
    "                 'boardgameaccessory', 'wargames', 'rpgitem', 'commodore64', 'abstracts', 'amiga', 'arcade', 'strategygames']"
   ]
  },
  {
   "cell_type": "code",
   "execution_count": 55,
   "metadata": {},
   "outputs": [
    {
     "ename": "KeyError",
     "evalue": "\"['childrensgames' 'videogame' 'familygames' 'partygames' 'atarist' 'cgs'\\n 'thematic' 'boardgameaccessory' 'wargames' 'rpgitem' 'commodore64'\\n 'abstracts' 'amiga' 'arcade' 'strategygames'] not found in axis\"",
     "output_type": "error",
     "traceback": [
      "\u001b[0;31m---------------------------------------------------------------------------\u001b[0m",
      "\u001b[0;31mKeyError\u001b[0m                                  Traceback (most recent call last)",
      "\u001b[0;32m<ipython-input-55-06899860cd64>\u001b[0m in \u001b[0;36m<module>\u001b[0;34m\u001b[0m\n\u001b[0;32m----> 1\u001b[0;31m \u001b[0mdf\u001b[0m \u001b[0;34m=\u001b[0m \u001b[0mdf\u001b[0m\u001b[0;34m.\u001b[0m\u001b[0mdrop\u001b[0m\u001b[0;34m(\u001b[0m\u001b[0mcolumns\u001b[0m\u001b[0;34m=\u001b[0m\u001b[0mremoveColumns\u001b[0m\u001b[0;34m)\u001b[0m\u001b[0;34m\u001b[0m\u001b[0;34m\u001b[0m\u001b[0m\n\u001b[0m",
      "\u001b[0;32m/usr/local/anaconda3/lib/python3.7/site-packages/pandas/core/frame.py\u001b[0m in \u001b[0;36mdrop\u001b[0;34m(self, labels, axis, index, columns, level, inplace, errors)\u001b[0m\n\u001b[1;32m   3938\u001b[0m                                            \u001b[0mindex\u001b[0m\u001b[0;34m=\u001b[0m\u001b[0mindex\u001b[0m\u001b[0;34m,\u001b[0m \u001b[0mcolumns\u001b[0m\u001b[0;34m=\u001b[0m\u001b[0mcolumns\u001b[0m\u001b[0;34m,\u001b[0m\u001b[0;34m\u001b[0m\u001b[0;34m\u001b[0m\u001b[0m\n\u001b[1;32m   3939\u001b[0m                                            \u001b[0mlevel\u001b[0m\u001b[0;34m=\u001b[0m\u001b[0mlevel\u001b[0m\u001b[0;34m,\u001b[0m \u001b[0minplace\u001b[0m\u001b[0;34m=\u001b[0m\u001b[0minplace\u001b[0m\u001b[0;34m,\u001b[0m\u001b[0;34m\u001b[0m\u001b[0;34m\u001b[0m\u001b[0m\n\u001b[0;32m-> 3940\u001b[0;31m                                            errors=errors)\n\u001b[0m\u001b[1;32m   3941\u001b[0m \u001b[0;34m\u001b[0m\u001b[0m\n\u001b[1;32m   3942\u001b[0m     @rewrite_axis_style_signature('mapper', [('copy', True),\n",
      "\u001b[0;32m/usr/local/anaconda3/lib/python3.7/site-packages/pandas/core/generic.py\u001b[0m in \u001b[0;36mdrop\u001b[0;34m(self, labels, axis, index, columns, level, inplace, errors)\u001b[0m\n\u001b[1;32m   3778\u001b[0m         \u001b[0;32mfor\u001b[0m \u001b[0maxis\u001b[0m\u001b[0;34m,\u001b[0m \u001b[0mlabels\u001b[0m \u001b[0;32min\u001b[0m \u001b[0maxes\u001b[0m\u001b[0;34m.\u001b[0m\u001b[0mitems\u001b[0m\u001b[0;34m(\u001b[0m\u001b[0;34m)\u001b[0m\u001b[0;34m:\u001b[0m\u001b[0;34m\u001b[0m\u001b[0;34m\u001b[0m\u001b[0m\n\u001b[1;32m   3779\u001b[0m             \u001b[0;32mif\u001b[0m \u001b[0mlabels\u001b[0m \u001b[0;32mis\u001b[0m \u001b[0;32mnot\u001b[0m \u001b[0;32mNone\u001b[0m\u001b[0;34m:\u001b[0m\u001b[0;34m\u001b[0m\u001b[0;34m\u001b[0m\u001b[0m\n\u001b[0;32m-> 3780\u001b[0;31m                 \u001b[0mobj\u001b[0m \u001b[0;34m=\u001b[0m \u001b[0mobj\u001b[0m\u001b[0;34m.\u001b[0m\u001b[0m_drop_axis\u001b[0m\u001b[0;34m(\u001b[0m\u001b[0mlabels\u001b[0m\u001b[0;34m,\u001b[0m \u001b[0maxis\u001b[0m\u001b[0;34m,\u001b[0m \u001b[0mlevel\u001b[0m\u001b[0;34m=\u001b[0m\u001b[0mlevel\u001b[0m\u001b[0;34m,\u001b[0m \u001b[0merrors\u001b[0m\u001b[0;34m=\u001b[0m\u001b[0merrors\u001b[0m\u001b[0;34m)\u001b[0m\u001b[0;34m\u001b[0m\u001b[0;34m\u001b[0m\u001b[0m\n\u001b[0m\u001b[1;32m   3781\u001b[0m \u001b[0;34m\u001b[0m\u001b[0m\n\u001b[1;32m   3782\u001b[0m         \u001b[0;32mif\u001b[0m \u001b[0minplace\u001b[0m\u001b[0;34m:\u001b[0m\u001b[0;34m\u001b[0m\u001b[0;34m\u001b[0m\u001b[0m\n",
      "\u001b[0;32m/usr/local/anaconda3/lib/python3.7/site-packages/pandas/core/generic.py\u001b[0m in \u001b[0;36m_drop_axis\u001b[0;34m(self, labels, axis, level, errors)\u001b[0m\n\u001b[1;32m   3810\u001b[0m                 \u001b[0mnew_axis\u001b[0m \u001b[0;34m=\u001b[0m \u001b[0maxis\u001b[0m\u001b[0;34m.\u001b[0m\u001b[0mdrop\u001b[0m\u001b[0;34m(\u001b[0m\u001b[0mlabels\u001b[0m\u001b[0;34m,\u001b[0m \u001b[0mlevel\u001b[0m\u001b[0;34m=\u001b[0m\u001b[0mlevel\u001b[0m\u001b[0;34m,\u001b[0m \u001b[0merrors\u001b[0m\u001b[0;34m=\u001b[0m\u001b[0merrors\u001b[0m\u001b[0;34m)\u001b[0m\u001b[0;34m\u001b[0m\u001b[0;34m\u001b[0m\u001b[0m\n\u001b[1;32m   3811\u001b[0m             \u001b[0;32melse\u001b[0m\u001b[0;34m:\u001b[0m\u001b[0;34m\u001b[0m\u001b[0;34m\u001b[0m\u001b[0m\n\u001b[0;32m-> 3812\u001b[0;31m                 \u001b[0mnew_axis\u001b[0m \u001b[0;34m=\u001b[0m \u001b[0maxis\u001b[0m\u001b[0;34m.\u001b[0m\u001b[0mdrop\u001b[0m\u001b[0;34m(\u001b[0m\u001b[0mlabels\u001b[0m\u001b[0;34m,\u001b[0m \u001b[0merrors\u001b[0m\u001b[0;34m=\u001b[0m\u001b[0merrors\u001b[0m\u001b[0;34m)\u001b[0m\u001b[0;34m\u001b[0m\u001b[0;34m\u001b[0m\u001b[0m\n\u001b[0m\u001b[1;32m   3813\u001b[0m             \u001b[0mresult\u001b[0m \u001b[0;34m=\u001b[0m \u001b[0mself\u001b[0m\u001b[0;34m.\u001b[0m\u001b[0mreindex\u001b[0m\u001b[0;34m(\u001b[0m\u001b[0;34m**\u001b[0m\u001b[0;34m{\u001b[0m\u001b[0maxis_name\u001b[0m\u001b[0;34m:\u001b[0m \u001b[0mnew_axis\u001b[0m\u001b[0;34m}\u001b[0m\u001b[0;34m)\u001b[0m\u001b[0;34m\u001b[0m\u001b[0;34m\u001b[0m\u001b[0m\n\u001b[1;32m   3814\u001b[0m \u001b[0;34m\u001b[0m\u001b[0m\n",
      "\u001b[0;32m/usr/local/anaconda3/lib/python3.7/site-packages/pandas/core/indexes/base.py\u001b[0m in \u001b[0;36mdrop\u001b[0;34m(self, labels, errors)\u001b[0m\n\u001b[1;32m   4963\u001b[0m             \u001b[0;32mif\u001b[0m \u001b[0merrors\u001b[0m \u001b[0;34m!=\u001b[0m \u001b[0;34m'ignore'\u001b[0m\u001b[0;34m:\u001b[0m\u001b[0;34m\u001b[0m\u001b[0;34m\u001b[0m\u001b[0m\n\u001b[1;32m   4964\u001b[0m                 raise KeyError(\n\u001b[0;32m-> 4965\u001b[0;31m                     '{} not found in axis'.format(labels[mask]))\n\u001b[0m\u001b[1;32m   4966\u001b[0m             \u001b[0mindexer\u001b[0m \u001b[0;34m=\u001b[0m \u001b[0mindexer\u001b[0m\u001b[0;34m[\u001b[0m\u001b[0;34m~\u001b[0m\u001b[0mmask\u001b[0m\u001b[0;34m]\u001b[0m\u001b[0;34m\u001b[0m\u001b[0;34m\u001b[0m\u001b[0m\n\u001b[1;32m   4967\u001b[0m         \u001b[0;32mreturn\u001b[0m \u001b[0mself\u001b[0m\u001b[0;34m.\u001b[0m\u001b[0mdelete\u001b[0m\u001b[0;34m(\u001b[0m\u001b[0mindexer\u001b[0m\u001b[0;34m)\u001b[0m\u001b[0;34m\u001b[0m\u001b[0;34m\u001b[0m\u001b[0m\n",
      "\u001b[0;31mKeyError\u001b[0m: \"['childrensgames' 'videogame' 'familygames' 'partygames' 'atarist' 'cgs'\\n 'thematic' 'boardgameaccessory' 'wargames' 'rpgitem' 'commodore64'\\n 'abstracts' 'amiga' 'arcade' 'strategygames'] not found in axis\""
     ]
    }
   ],
   "source": [
    "df = df.drop(columns=removeColumns)"
   ]
  },
  {
   "cell_type": "code",
   "execution_count": 59,
   "metadata": {},
   "outputs": [],
   "source": [
    "df = df.fillna(0)"
   ]
  },
  {
   "cell_type": "code",
   "execution_count": 83,
   "metadata": {},
   "outputs": [],
   "source": [
    "df = df.drop_duplicates(subset=\"ID\", keep='first')"
   ]
  },
  {
   "cell_type": "code",
   "execution_count": 84,
   "metadata": {},
   "outputs": [],
   "source": [
    "df.to_csv('BGG Export.csv')"
   ]
  },
  {
   "cell_type": "code",
   "execution_count": 85,
   "metadata": {},
   "outputs": [
    {
     "data": {
      "text/html": [
       "<div>\n",
       "<style scoped>\n",
       "    .dataframe tbody tr th:only-of-type {\n",
       "        vertical-align: middle;\n",
       "    }\n",
       "\n",
       "    .dataframe tbody tr th {\n",
       "        vertical-align: top;\n",
       "    }\n",
       "\n",
       "    .dataframe thead th {\n",
       "        text-align: right;\n",
       "    }\n",
       "</style>\n",
       "<table border=\"1\" class=\"dataframe\">\n",
       "  <thead>\n",
       "    <tr style=\"text-align: right;\">\n",
       "      <th></th>\n",
       "      <th>Name</th>\n",
       "      <th>ID</th>\n",
       "      <th>Publisher</th>\n",
       "      <th>Minimum Players</th>\n",
       "      <th>Max Players</th>\n",
       "      <th>Num_Ratings</th>\n",
       "      <th>Avg_Rating</th>\n",
       "      <th>Bayes_Avg_Rating</th>\n",
       "      <th>Avg_Weight</th>\n",
       "      <th>StDev_Rating</th>\n",
       "      <th>...</th>\n",
       "      <th>BGG_Min_Age</th>\n",
       "      <th>Pub_Min_Players</th>\n",
       "      <th>Pub_Max_Players</th>\n",
       "      <th>BGG_Num_Players</th>\n",
       "      <th>Play_Time</th>\n",
       "      <th>Categories</th>\n",
       "      <th>Mechanics</th>\n",
       "      <th>boardgame</th>\n",
       "      <th>BGG Rank</th>\n",
       "      <th>Downloaded Date</th>\n",
       "    </tr>\n",
       "  </thead>\n",
       "  <tbody>\n",
       "    <tr>\n",
       "      <th>0</th>\n",
       "      <td>Gloomhaven</td>\n",
       "      <td>174430</td>\n",
       "      <td>Not Found</td>\n",
       "      <td>1</td>\n",
       "      <td>4</td>\n",
       "      <td>28863</td>\n",
       "      <td>8.86868</td>\n",
       "      <td>8.59398</td>\n",
       "      <td>3.7997</td>\n",
       "      <td>1.59463</td>\n",
       "      <td>...</td>\n",
       "      <td>14.0</td>\n",
       "      <td>1</td>\n",
       "      <td>4</td>\n",
       "      <td>3</td>\n",
       "      <td>120</td>\n",
       "      <td>0</td>\n",
       "      <td>0</td>\n",
       "      <td>0</td>\n",
       "      <td>1</td>\n",
       "      <td>2019-10-29</td>\n",
       "    </tr>\n",
       "    <tr>\n",
       "      <th>4</th>\n",
       "      <td>Pandemic Legacy: Season 1</td>\n",
       "      <td>161936</td>\n",
       "      <td>Not Found</td>\n",
       "      <td>2</td>\n",
       "      <td>4</td>\n",
       "      <td>33379</td>\n",
       "      <td>8.62922</td>\n",
       "      <td>8.47506</td>\n",
       "      <td>2.8312</td>\n",
       "      <td>1.60196</td>\n",
       "      <td>...</td>\n",
       "      <td>12.0</td>\n",
       "      <td>2</td>\n",
       "      <td>4</td>\n",
       "      <td>4</td>\n",
       "      <td>60</td>\n",
       "      <td>0</td>\n",
       "      <td>0</td>\n",
       "      <td>0</td>\n",
       "      <td>5</td>\n",
       "      <td>2019-10-29</td>\n",
       "    </tr>\n",
       "    <tr>\n",
       "      <th>8</th>\n",
       "      <td>Terraforming Mars</td>\n",
       "      <td>167791</td>\n",
       "      <td>Not Found</td>\n",
       "      <td>1</td>\n",
       "      <td>5</td>\n",
       "      <td>44725</td>\n",
       "      <td>8.41172</td>\n",
       "      <td>8.25463</td>\n",
       "      <td>3.2260</td>\n",
       "      <td>1.36877</td>\n",
       "      <td>...</td>\n",
       "      <td>12.0</td>\n",
       "      <td>1</td>\n",
       "      <td>5</td>\n",
       "      <td>3</td>\n",
       "      <td>120</td>\n",
       "      <td>0</td>\n",
       "      <td>0</td>\n",
       "      <td>0</td>\n",
       "      <td>9</td>\n",
       "      <td>2019-10-29</td>\n",
       "    </tr>\n",
       "    <tr>\n",
       "      <th>12</th>\n",
       "      <td>Through the Ages: A New Story of Civilization</td>\n",
       "      <td>182028</td>\n",
       "      <td>Not Found</td>\n",
       "      <td>2</td>\n",
       "      <td>4</td>\n",
       "      <td>17377</td>\n",
       "      <td>8.50946</td>\n",
       "      <td>8.24578</td>\n",
       "      <td>4.3830</td>\n",
       "      <td>1.49249</td>\n",
       "      <td>...</td>\n",
       "      <td>14.0</td>\n",
       "      <td>2</td>\n",
       "      <td>4</td>\n",
       "      <td>3</td>\n",
       "      <td>120</td>\n",
       "      <td>0</td>\n",
       "      <td>0</td>\n",
       "      <td>0</td>\n",
       "      <td>13</td>\n",
       "      <td>2019-10-29</td>\n",
       "    </tr>\n",
       "    <tr>\n",
       "      <th>16</th>\n",
       "      <td>Twilight Struggle</td>\n",
       "      <td>12333</td>\n",
       "      <td>Not Found</td>\n",
       "      <td>2</td>\n",
       "      <td>2</td>\n",
       "      <td>35885</td>\n",
       "      <td>8.31890</td>\n",
       "      <td>8.16854</td>\n",
       "      <td>3.5720</td>\n",
       "      <td>1.57927</td>\n",
       "      <td>...</td>\n",
       "      <td>14.0</td>\n",
       "      <td>2</td>\n",
       "      <td>2</td>\n",
       "      <td>2</td>\n",
       "      <td>180</td>\n",
       "      <td>0</td>\n",
       "      <td>0</td>\n",
       "      <td>0</td>\n",
       "      <td>17</td>\n",
       "      <td>2019-10-29</td>\n",
       "    </tr>\n",
       "  </tbody>\n",
       "</table>\n",
       "<p>5 rows × 28 columns</p>\n",
       "</div>"
      ],
      "text/plain": [
       "                                             Name      ID  Publisher  \\\n",
       "0                                      Gloomhaven  174430  Not Found   \n",
       "4                       Pandemic Legacy: Season 1  161936  Not Found   \n",
       "8                               Terraforming Mars  167791  Not Found   \n",
       "12  Through the Ages: A New Story of Civilization  182028  Not Found   \n",
       "16                              Twilight Struggle   12333  Not Found   \n",
       "\n",
       "    Minimum Players  Max Players  Num_Ratings  Avg_Rating  Bayes_Avg_Rating  \\\n",
       "0                 1            4        28863     8.86868           8.59398   \n",
       "4                 2            4        33379     8.62922           8.47506   \n",
       "8                 1            5        44725     8.41172           8.25463   \n",
       "12                2            4        17377     8.50946           8.24578   \n",
       "16                2            2        35885     8.31890           8.16854   \n",
       "\n",
       "    Avg_Weight  StDev_Rating  ...  BGG_Min_Age  Pub_Min_Players  \\\n",
       "0       3.7997       1.59463  ...         14.0                1   \n",
       "4       2.8312       1.60196  ...         12.0                2   \n",
       "8       3.2260       1.36877  ...         12.0                1   \n",
       "12      4.3830       1.49249  ...         14.0                2   \n",
       "16      3.5720       1.57927  ...         14.0                2   \n",
       "\n",
       "    Pub_Max_Players  BGG_Num_Players  Play_Time  Categories  Mechanics  \\\n",
       "0                 4                3        120           0          0   \n",
       "4                 4                4         60           0          0   \n",
       "8                 5                3        120           0          0   \n",
       "12                4                3        120           0          0   \n",
       "16                2                2        180           0          0   \n",
       "\n",
       "    boardgame  BGG Rank  Downloaded Date  \n",
       "0           0         1       2019-10-29  \n",
       "4           0         5       2019-10-29  \n",
       "8           0         9       2019-10-29  \n",
       "12          0        13       2019-10-29  \n",
       "16          0        17       2019-10-29  \n",
       "\n",
       "[5 rows x 28 columns]"
      ]
     },
     "execution_count": 85,
     "metadata": {},
     "output_type": "execute_result"
    }
   ],
   "source": [
    "df.head()"
   ]
  },
  {
   "cell_type": "code",
   "execution_count": 87,
   "metadata": {},
   "outputs": [],
   "source": [
    "bg_df_backup.to_csv('BGG Export.csv')"
   ]
  },
  {
   "cell_type": "code",
   "execution_count": null,
   "metadata": {},
   "outputs": [],
   "source": []
  }
 ],
 "metadata": {
  "kernelspec": {
   "display_name": "Python 3",
   "language": "python",
   "name": "python3"
  },
  "language_info": {
   "codemirror_mode": {
    "name": "ipython",
    "version": 3
   },
   "file_extension": ".py",
   "mimetype": "text/x-python",
   "name": "python",
   "nbconvert_exporter": "python",
   "pygments_lexer": "ipython3",
   "version": "3.7.4"
  }
 },
 "nbformat": 4,
 "nbformat_minor": 4
}
